{
 "cells": [
  {
   "cell_type": "markdown",
   "metadata": {},
   "source": [
    "## Предсказание количества заказов такси в аэропортах\n",
    "\n",
    "\n",
    "## Данные\n",
    "\n",
    "В наличие был один датасет с данными о количестве заказов в опрределенное время\n",
    "\n",
    "## Задача\n",
    "Необходимо построить модель, которая спрогнозирует количесво заказов такси в аэропортах на следующий час.  \n",
    "\n",
    "## Навыки и инструменты\n",
    "*pandas, sklearn, catboost, xgboost, lightgbm hyperopt, pandas_profiling, numpy, Matplotlib, StatsModels,\n",
    "машинное обучение*\n",
    "\n",
    "## Описание проекта\n",
    "Проанализированы исторические данные о заказах такси в аэропортах.  \n",
    "Спрогнозировано количество заказов такси на следующий час, чтобы привлекать больше водителей в период пиковой нагрузки. \n",
    "Построена модель для такого предсказания."
   ]
  },
  {
   "cell_type": "code",
   "execution_count": 1,
   "metadata": {},
   "outputs": [],
   "source": [
    "#Заблокируем предупреждения\n",
    "import warnings\n",
    "warnings.filterwarnings('ignore')"
   ]
  },
  {
   "cell_type": "code",
   "execution_count": 2,
   "metadata": {},
   "outputs": [],
   "source": [
    "# Импортируем необходимые библиотеки\n",
    "import pandas as pd\n",
    "import sklearn\n",
    "import datetime\n",
    "import time\n",
    "from sklearn.tree import DecisionTreeRegressor\n",
    "from sklearn.ensemble import RandomForestRegressor\n",
    "from sklearn.ensemble import GradientBoostingRegressor\n",
    "from sklearn.model_selection import train_test_split\n",
    "from sklearn.metrics import mean_squared_error\n",
    "from sklearn.model_selection import cross_val_score\n",
    "import calendar\n",
    "pd.set_option('display.max_columns', 100)# можно не 100, а none\n",
    "pd.set_option('display.max_rows', 100)\n",
    "%matplotlib inline\n",
    "import numpy as np\n",
    "import matplotlib.pyplot as plt \n",
    "from sklearn.metrics import accuracy_score, f1_score, recall_score, precision_score\n",
    "from sklearn.preprocessing import StandardScaler\n",
    "from sklearn.preprocessing import MinMaxScaler\n",
    "from sklearn.linear_model import LinearRegression\n",
    "import pandas_profiling\n",
    "from pandas_profiling import ProfileReport"
   ]
  },
  {
   "cell_type": "markdown",
   "metadata": {},
   "source": [
    "# 1. Подготовка"
   ]
  },
  {
   "cell_type": "markdown",
   "metadata": {},
   "source": [
    "## 1.1. Загрузка и изучение данных"
   ]
  },
  {
   "cell_type": "markdown",
   "metadata": {},
   "source": [
    "Загрузим и посмотрим данные"
   ]
  },
  {
   "cell_type": "code",
   "execution_count": 3,
   "metadata": {},
   "outputs": [
    {
     "name": "stdout",
     "output_type": "stream",
     "text": [
      "(26496, 2)\n",
      "<class 'pandas.core.frame.DataFrame'>\n",
      "RangeIndex: 26496 entries, 0 to 26495\n",
      "Data columns (total 2 columns):\n",
      " #   Column      Non-Null Count  Dtype \n",
      "---  ------      --------------  ----- \n",
      " 0   datetime    26496 non-null  object\n",
      " 1   num_orders  26496 non-null  int64 \n",
      "dtypes: int64(1), object(1)\n",
      "memory usage: 414.1+ KB\n",
      "None\n"
     ]
    },
    {
     "data": {
      "text/html": [
       "<div>\n",
       "<style scoped>\n",
       "    .dataframe tbody tr th:only-of-type {\n",
       "        vertical-align: middle;\n",
       "    }\n",
       "\n",
       "    .dataframe tbody tr th {\n",
       "        vertical-align: top;\n",
       "    }\n",
       "\n",
       "    .dataframe thead th {\n",
       "        text-align: right;\n",
       "    }\n",
       "</style>\n",
       "<table border=\"1\" class=\"dataframe\">\n",
       "  <thead>\n",
       "    <tr style=\"text-align: right;\">\n",
       "      <th></th>\n",
       "      <th>datetime</th>\n",
       "      <th>num_orders</th>\n",
       "    </tr>\n",
       "  </thead>\n",
       "  <tbody>\n",
       "    <tr>\n",
       "      <th>0</th>\n",
       "      <td>2018-03-01 00:00:00</td>\n",
       "      <td>9</td>\n",
       "    </tr>\n",
       "    <tr>\n",
       "      <th>1</th>\n",
       "      <td>2018-03-01 00:10:00</td>\n",
       "      <td>14</td>\n",
       "    </tr>\n",
       "    <tr>\n",
       "      <th>2</th>\n",
       "      <td>2018-03-01 00:20:00</td>\n",
       "      <td>28</td>\n",
       "    </tr>\n",
       "    <tr>\n",
       "      <th>3</th>\n",
       "      <td>2018-03-01 00:30:00</td>\n",
       "      <td>20</td>\n",
       "    </tr>\n",
       "    <tr>\n",
       "      <th>4</th>\n",
       "      <td>2018-03-01 00:40:00</td>\n",
       "      <td>32</td>\n",
       "    </tr>\n",
       "  </tbody>\n",
       "</table>\n",
       "</div>"
      ],
      "text/plain": [
       "              datetime  num_orders\n",
       "0  2018-03-01 00:00:00           9\n",
       "1  2018-03-01 00:10:00          14\n",
       "2  2018-03-01 00:20:00          28\n",
       "3  2018-03-01 00:30:00          20\n",
       "4  2018-03-01 00:40:00          32"
      ]
     },
     "execution_count": 3,
     "metadata": {},
     "output_type": "execute_result"
    }
   ],
   "source": [
    "order_taxi = pd.read_csv(\"taxi.csv\")\n",
    "#order_taxi = pd.read_csv(\"taxi.csv\")\n",
    "print(order_taxi.shape)\n",
    "print(order_taxi.info())\n",
    "order_taxi.head()"
   ]
  },
  {
   "cell_type": "markdown",
   "metadata": {},
   "source": [
    "Посмотрим на данные более пристально. Воспользуемся для этого библиотекой pandas-profiling."
   ]
  },
  {
   "cell_type": "code",
   "execution_count": 4,
   "metadata": {},
   "outputs": [],
   "source": [
    "profile = ProfileReport(order_taxi, minimal = False)"
   ]
  },
  {
   "cell_type": "code",
   "execution_count": 5,
   "metadata": {},
   "outputs": [
    {
     "data": {
      "application/vnd.jupyter.widget-view+json": {
       "model_id": "a4ee570dc1d3496596c048282e3b4038",
       "version_major": 2,
       "version_minor": 0
      },
      "text/plain": [
       "HBox(children=(FloatProgress(value=0.0, description='Summarize dataset', max=14.0, style=ProgressStyle(descrip…"
      ]
     },
     "metadata": {},
     "output_type": "display_data"
    },
    {
     "name": "stdout",
     "output_type": "stream",
     "text": [
      "\n"
     ]
    },
    {
     "data": {
      "application/vnd.jupyter.widget-view+json": {
       "model_id": "81b4e31d3a5247d5926969e7dcc93516",
       "version_major": 2,
       "version_minor": 0
      },
      "text/plain": [
       "HBox(children=(FloatProgress(value=0.0, description='Generate report structure', max=1.0, style=ProgressStyle(…"
      ]
     },
     "metadata": {},
     "output_type": "display_data"
    },
    {
     "name": "stdout",
     "output_type": "stream",
     "text": [
      "\n"
     ]
    },
    {
     "data": {
      "application/vnd.jupyter.widget-view+json": {
       "model_id": "cbe06f6366924dd98237cae6db6fca0e",
       "version_major": 2,
       "version_minor": 0
      },
      "text/plain": [
       "HBox(children=(FloatProgress(value=0.0, description='Render HTML', max=1.0, style=ProgressStyle(description_wi…"
      ]
     },
     "metadata": {},
     "output_type": "display_data"
    },
    {
     "name": "stdout",
     "output_type": "stream",
     "text": [
      "\n"
     ]
    },
    {
     "data": {
      "application/vnd.jupyter.widget-view+json": {
       "model_id": "0cc927692d6a4f63b8059dd86a7593cd",
       "version_major": 2,
       "version_minor": 0
      },
      "text/plain": [
       "HBox(children=(FloatProgress(value=0.0, description='Export report to file', max=1.0, style=ProgressStyle(desc…"
      ]
     },
     "metadata": {},
     "output_type": "display_data"
    },
    {
     "name": "stdout",
     "output_type": "stream",
     "text": [
      "\n"
     ]
    }
   ],
   "source": [
    "profile.to_file(output_file = \"order_taxi.html\")"
   ]
  },
  {
   "cell_type": "markdown",
   "metadata": {},
   "source": [
    "Здесь прикрепляю ссылку на результат - https://yadi.sk/d/CZfmT1mqUiZXHw (Для просмотра лучше открывать в яндекс браузере)"
   ]
  },
  {
   "cell_type": "markdown",
   "metadata": {},
   "source": [
    "Подсчет % пропусков"
   ]
  },
  {
   "cell_type": "code",
   "execution_count": 6,
   "metadata": {
    "scrolled": false
   },
   "outputs": [
    {
     "data": {
      "text/plain": [
       "num_orders    0.0\n",
       "datetime      0.0\n",
       "dtype: float64"
      ]
     },
     "execution_count": 6,
     "metadata": {},
     "output_type": "execute_result"
    }
   ],
   "source": [
    "(order_taxi.isnull().sum()/order_taxi.shape[0]*100).sort_values(ascending = False).head(50)"
   ]
  },
  {
   "cell_type": "markdown",
   "metadata": {},
   "source": [
    "Подсчет % нулевых значений"
   ]
  },
  {
   "cell_type": "code",
   "execution_count": 7,
   "metadata": {
    "scrolled": true
   },
   "outputs": [
    {
     "data": {
      "text/plain": [
       "num_orders    2.026721\n",
       "datetime      0.000000\n",
       "dtype: float64"
      ]
     },
     "execution_count": 7,
     "metadata": {},
     "output_type": "execute_result"
    }
   ],
   "source": [
    "(order_taxi[order_taxi == 0].count()/order_taxi.shape[0]*100).sort_values(ascending = False).head(50)"
   ]
  },
  {
   "cell_type": "markdown",
   "metadata": {},
   "source": [
    "Итак мы видим, датасет состоящий из 26496 строк и 2 столбцов. Один столбец имеет вид дата-времени, но представлен в виде строки (object). Второй столбец представлен целыми числами. Можно выделить следующие особенности даноого датасета:\n",
    "* Пропусков нет\n",
    "* Дубликатов нет\n",
    "* Нулевые значения имеются в столбце \"num_orders\", но для количества заказов такое может быть"
   ]
  },
  {
   "cell_type": "markdown",
   "metadata": {},
   "source": [
    "## 1.2. Ресемплирование"
   ]
  },
  {
   "cell_type": "markdown",
   "metadata": {},
   "source": [
    "Времнные интервалы в датасете представлены 10-ти минутными орезками, а нам нужно сделать предсказания для одного часа. Для этого нужно провести ресемплирование по одному часу"
   ]
  },
  {
   "cell_type": "markdown",
   "metadata": {},
   "source": [
    "Сначало переведем данные в столбце datetime в тип datetime  "
   ]
  },
  {
   "cell_type": "code",
   "execution_count": 8,
   "metadata": {},
   "outputs": [
    {
     "name": "stdout",
     "output_type": "stream",
     "text": [
      "<class 'pandas.core.frame.DataFrame'>\n",
      "RangeIndex: 26496 entries, 0 to 26495\n",
      "Data columns (total 2 columns):\n",
      " #   Column      Non-Null Count  Dtype         \n",
      "---  ------      --------------  -----         \n",
      " 0   datetime    26496 non-null  datetime64[ns]\n",
      " 1   num_orders  26496 non-null  int64         \n",
      "dtypes: datetime64[ns](1), int64(1)\n",
      "memory usage: 414.1 KB\n",
      "None\n"
     ]
    }
   ],
   "source": [
    "order_taxi['datetime'] = pd.to_datetime(order_taxi['datetime'], format='%Y-%m-%dT%H:%M:%S')\n",
    "print(order_taxi.info())"
   ]
  },
  {
   "cell_type": "markdown",
   "metadata": {},
   "source": [
    "Установим индекс таблицы равным столбцу datetime"
   ]
  },
  {
   "cell_type": "code",
   "execution_count": 9,
   "metadata": {},
   "outputs": [
    {
     "name": "stdout",
     "output_type": "stream",
     "text": [
      "<class 'pandas.core.frame.DataFrame'>\n",
      "DatetimeIndex: 26496 entries, 2018-03-01 00:00:00 to 2018-08-31 23:50:00\n",
      "Data columns (total 1 columns):\n",
      " #   Column      Non-Null Count  Dtype\n",
      "---  ------      --------------  -----\n",
      " 0   num_orders  26496 non-null  int64\n",
      "dtypes: int64(1)\n",
      "memory usage: 414.0 KB\n",
      "None\n",
      "                     num_orders\n",
      "datetime                       \n",
      "2018-03-01 00:00:00           9\n",
      "2018-03-01 00:10:00          14\n",
      "2018-03-01 00:20:00          28\n",
      "2018-03-01 00:30:00          20\n",
      "2018-03-01 00:40:00          32\n",
      "...                         ...\n",
      "2018-08-31 23:10:00          32\n",
      "2018-08-31 23:20:00          24\n",
      "2018-08-31 23:30:00          27\n",
      "2018-08-31 23:40:00          39\n",
      "2018-08-31 23:50:00          53\n",
      "\n",
      "[26496 rows x 1 columns]\n"
     ]
    }
   ],
   "source": [
    "order_taxi = order_taxi.set_index('datetime')\n",
    "print(order_taxi.info())\n",
    "print(order_taxi)"
   ]
  },
  {
   "cell_type": "markdown",
   "metadata": {},
   "source": [
    "Посморим, в хронологическом ли порядке расположены даты и время"
   ]
  },
  {
   "cell_type": "code",
   "execution_count": 10,
   "metadata": {
    "scrolled": false
   },
   "outputs": [
    {
     "name": "stdout",
     "output_type": "stream",
     "text": [
      "True\n"
     ]
    }
   ],
   "source": [
    "print(order_taxi.index.is_monotonic)"
   ]
  },
  {
   "cell_type": "markdown",
   "metadata": {},
   "source": [
    "Да, все Ок!\n",
    "Теперь можно провести ресемплирование"
   ]
  },
  {
   "cell_type": "code",
   "execution_count": 11,
   "metadata": {},
   "outputs": [],
   "source": [
    "order_taxi = order_taxi.resample('1H').sum() "
   ]
  },
  {
   "cell_type": "markdown",
   "metadata": {},
   "source": [
    "# 2. Анализ"
   ]
  },
  {
   "cell_type": "markdown",
   "metadata": {},
   "source": [
    "Посмотрим на график динамики заказов"
   ]
  },
  {
   "cell_type": "code",
   "execution_count": 12,
   "metadata": {},
   "outputs": [
    {
     "data": {
      "text/plain": [
       "<matplotlib.axes._subplots.AxesSubplot at 0x1af88208>"
      ]
     },
     "execution_count": 12,
     "metadata": {},
     "output_type": "execute_result"
    },
    {
     "data": {
      "image/png": "[encoded data removed]",
      "text/plain": [
       "<Figure size 432x288 with 1 Axes>"
      ]
     },
     "metadata": {
      "needs_background": "light"
     },
     "output_type": "display_data"
    }
   ],
   "source": [
    "order_taxi.plot()"
   ]
  },
  {
   "cell_type": "markdown",
   "metadata": {},
   "source": [
    "Проверим тренды и сезонность"
   ]
  },
  {
   "cell_type": "markdown",
   "metadata": {},
   "source": [
    "Посмотрим на график после применения скользящего среднего"
   ]
  },
  {
   "cell_type": "code",
   "execution_count": 13,
   "metadata": {},
   "outputs": [
    {
     "data": {
      "text/plain": [
       "<matplotlib.axes._subplots.AxesSubplot at 0x12c8d608>"
      ]
     },
     "execution_count": 13,
     "metadata": {},
     "output_type": "execute_result"
    },
    {
     "data": {
      "image/png": "[encoded data removed]",
      "text/plain": [
       "<Figure size 432x288 with 1 Axes>"
      ]
     },
     "metadata": {
      "needs_background": "light"
     },
     "output_type": "display_data"
    }
   ],
   "source": [
    "order_taxi['rolling_mean'] = order_taxi.rolling(5).mean()\n",
    "order_taxi.plot()"
   ]
  },
  {
   "cell_type": "markdown",
   "metadata": {},
   "source": [
    "Видим тренд увеличения заказов с весны к концу лета. Посмотрим на заказы более пристально через двухнедельный срез данных."
   ]
  },
  {
   "cell_type": "code",
   "execution_count": 14,
   "metadata": {},
   "outputs": [
    {
     "data": {
      "text/plain": [
       "<matplotlib.axes._subplots.AxesSubplot at 0x12eef188>"
      ]
     },
     "execution_count": 14,
     "metadata": {},
     "output_type": "execute_result"
    },
    {
     "data": {
      "image/png": "[encoded data removed]",
      "text/plain": [
       "<Figure size 432x288 with 1 Axes>"
      ]
     },
     "metadata": {
      "needs_background": "light"
     },
     "output_type": "display_data"
    }
   ],
   "source": [
    "order_taxi['2018-03-11':'2018-03-26'].plot()"
   ]
  },
  {
   "cell_type": "markdown",
   "metadata": {},
   "source": [
    "Тот же срез даных при ресемплировании по дням"
   ]
  },
  {
   "cell_type": "code",
   "execution_count": 15,
   "metadata": {},
   "outputs": [
    {
     "data": {
      "text/plain": [
       "<matplotlib.axes._subplots.AxesSubplot at 0x12f793c8>"
      ]
     },
     "execution_count": 15,
     "metadata": {},
     "output_type": "execute_result"
    },
    {
     "data": {
      "image/png": "[encoded data removed]",
      "text/plain": [
       "<Figure size 432x288 with 1 Axes>"
      ]
     },
     "metadata": {
      "needs_background": "light"
     },
     "output_type": "display_data"
    }
   ],
   "source": [
    "order_taxi_day = order_taxi.resample('d').sum()\n",
    "order_taxi_day['2018-03-11':'2018-03-26'].plot()"
   ]
  },
  {
   "cell_type": "markdown",
   "metadata": {},
   "source": [
    "Видим, что прослеживаеся сезонность. Уменьшим интервал."
   ]
  },
  {
   "cell_type": "code",
   "execution_count": 16,
   "metadata": {},
   "outputs": [
    {
     "data": {
      "text/plain": [
       "<matplotlib.axes._subplots.AxesSubplot at 0x1300bec8>"
      ]
     },
     "execution_count": 16,
     "metadata": {},
     "output_type": "execute_result"
    },
    {
     "data": {
      "image/png": "[encoded data removed]",
      "text/plain": [
       "<Figure size 432x288 with 1 Axes>"
      ]
     },
     "metadata": {
      "needs_background": "light"
     },
     "output_type": "display_data"
    }
   ],
   "source": [
    "order_taxi['2018-03-10':'2018-03-12'].plot()"
   ]
  },
  {
   "cell_type": "markdown",
   "metadata": {},
   "source": [
    "Видим явную периодичность изменения количесва заказов в течении суток и недели - увеличие количесва заказов в вечернее время с пиками в районе 24 часов и увеличение количества заказов в определеные дни недели: резко в понедельник и плавный роскт к пятнице. Посмотрим на тренды и сезонность через разложение временного ряда на тренд и сезонную компоненту. "
   ]
  },
  {
   "cell_type": "markdown",
   "metadata": {},
   "source": [
    "Ресемплирование по часу"
   ]
  },
  {
   "cell_type": "code",
   "execution_count": 17,
   "metadata": {
    "scrolled": false
   },
   "outputs": [
    {
     "data": {
      "image/png": "[encoded data removed]",
      "text/plain": [
       "<Figure size 432x576 with 3 Axes>"
      ]
     },
     "metadata": {
      "needs_background": "light"
     },
     "output_type": "display_data"
    }
   ],
   "source": [
    "from statsmodels.tsa.seasonal import seasonal_decompose\n",
    "import matplotlib.pyplot as plt\n",
    "decomposed = seasonal_decompose(order_taxi[\"num_orders\"])\n",
    "\n",
    "plt.figure(figsize=(6, 8))\n",
    "plt.subplot(311)\n",
    "decomposed.trend.plot(ax=plt.gca())\n",
    "plt.title('Trend')\n",
    "plt.subplot(312)\n",
    "decomposed.seasonal['2018-03-01':'2018-03-10'].plot(ax=plt.gca())\n",
    "plt.title('Seasonality')\n",
    "plt.subplot(313)\n",
    "decomposed.resid.plot(ax=plt.gca())\n",
    "plt.title('Residuals')\n",
    "plt.tight_layout()\n"
   ]
  },
  {
   "cell_type": "markdown",
   "metadata": {},
   "source": [
    "Ресемплирование по дням"
   ]
  },
  {
   "cell_type": "code",
   "execution_count": 18,
   "metadata": {
    "scrolled": false
   },
   "outputs": [
    {
     "data": {
      "image/png": "[encoded data removed]",
      "text/plain": [
       "<Figure size 432x576 with 3 Axes>"
      ]
     },
     "metadata": {
      "needs_background": "light"
     },
     "output_type": "display_data"
    }
   ],
   "source": [
    "from statsmodels.tsa.seasonal import seasonal_decompose\n",
    "import matplotlib.pyplot as plt\n",
    "decomposed = seasonal_decompose(order_taxi_day[\"num_orders\"])\n",
    "\n",
    "plt.figure(figsize=(6, 8))\n",
    "plt.subplot(311)\n",
    "decomposed.trend.plot(ax=plt.gca())\n",
    "plt.title('Trend')\n",
    "plt.subplot(312)\n",
    "decomposed.seasonal['2018-03-11':'2018-03-26'].plot(ax=plt.gca())\n",
    "plt.title('Seasonality')\n",
    "plt.subplot(313)\n",
    "decomposed.resid.plot(ax=plt.gca())\n",
    "plt.title('Residuals')\n",
    "plt.tight_layout()\n"
   ]
  },
  {
   "cell_type": "markdown",
   "metadata": {},
   "source": [
    "Предположения подтвердились: есть суточная и дневная сезоннотсь и возрастающий тренд в течении наблюдаемого периода."
   ]
  },
  {
   "cell_type": "markdown",
   "metadata": {},
   "source": [
    "Действительно, видим, что есть и тренд и сезонность"
   ]
  },
  {
   "cell_type": "markdown",
   "metadata": {},
   "source": [
    "# 3. Обучение"
   ]
  },
  {
   "cell_type": "markdown",
   "metadata": {},
   "source": [
    "## 3.1. Подготовка данных"
   ]
  },
  {
   "cell_type": "markdown",
   "metadata": {},
   "source": [
    "Удалим лишние признаки из датасета"
   ]
  },
  {
   "cell_type": "code",
   "execution_count": 20,
   "metadata": {},
   "outputs": [],
   "source": [
    "order_taxi = pd.DataFrame(order_taxi[\"num_orders\"])"
   ]
  },
  {
   "cell_type": "code",
   "execution_count": 21,
   "metadata": {},
   "outputs": [
    {
     "data": {
      "text/html": [
       "<div>\n",
       "<style scoped>\n",
       "    .dataframe tbody tr th:only-of-type {\n",
       "        vertical-align: middle;\n",
       "    }\n",
       "\n",
       "    .dataframe tbody tr th {\n",
       "        vertical-align: top;\n",
       "    }\n",
       "\n",
       "    .dataframe thead th {\n",
       "        text-align: right;\n",
       "    }\n",
       "</style>\n",
       "<table border=\"1\" class=\"dataframe\">\n",
       "  <thead>\n",
       "    <tr style=\"text-align: right;\">\n",
       "      <th></th>\n",
       "      <th>num_orders</th>\n",
       "    </tr>\n",
       "    <tr>\n",
       "      <th>datetime</th>\n",
       "      <th></th>\n",
       "    </tr>\n",
       "  </thead>\n",
       "  <tbody>\n",
       "    <tr>\n",
       "      <th>2018-03-01 00:00:00</th>\n",
       "      <td>124</td>\n",
       "    </tr>\n",
       "    <tr>\n",
       "      <th>2018-03-01 01:00:00</th>\n",
       "      <td>85</td>\n",
       "    </tr>\n",
       "    <tr>\n",
       "      <th>2018-03-01 02:00:00</th>\n",
       "      <td>71</td>\n",
       "    </tr>\n",
       "    <tr>\n",
       "      <th>2018-03-01 03:00:00</th>\n",
       "      <td>66</td>\n",
       "    </tr>\n",
       "    <tr>\n",
       "      <th>2018-03-01 04:00:00</th>\n",
       "      <td>43</td>\n",
       "    </tr>\n",
       "  </tbody>\n",
       "</table>\n",
       "</div>"
      ],
      "text/plain": [
       "                     num_orders\n",
       "datetime                       \n",
       "2018-03-01 00:00:00         124\n",
       "2018-03-01 01:00:00          85\n",
       "2018-03-01 02:00:00          71\n",
       "2018-03-01 03:00:00          66\n",
       "2018-03-01 04:00:00          43"
      ]
     },
     "execution_count": 21,
     "metadata": {},
     "output_type": "execute_result"
    }
   ],
   "source": [
    "order_taxi.head()"
   ]
  },
  {
   "cell_type": "markdown",
   "metadata": {},
   "source": [
    "Напишем функцию make_features(), чтобы прибавить к таблице новые признаки:\n",
    "* месяц\n",
    "* день\n",
    "* час\n",
    "* день недели\n",
    "* отстающие значения (max_lag)\n",
    "* скользящее среднее (rolling_mean_size)\n",
    "\n",
    "\n",
    "\n",
    "* Месяц включил в признаки, поскольку графичкский анализ показал, что есть тред - от месяца к месяцу, в пределах наблюдаемого интервала, количество заказов растет. (Пробовал месяц убирать из признаков. Качество прогноза ухудшается)\n",
    "* День недели включил в признаки по той причине, что в анализе была показана недельная сезонность в заказах в зависимлсти от дня недели\n",
    "* Час включил в признаки по той причине, что в анализе была показана суточная сезонность в заказах по часам\n",
    "* max_lag: «Отстающие значения» - это так называемый фактор авторегрессии - предыдущие значения временного ряда.\n",
    "* rolling_mean_size: Скользящее среднее как признак задаёт общий тренд временного ряда. Он какбы сглаживает случайные колебания, также улучшая пргноз  "
   ]
  },
  {
   "cell_type": "code",
   "execution_count": 22,
   "metadata": {},
   "outputs": [],
   "source": [
    "def make_features(data, max_lag, rolling_mean_size):\n",
    "    data['month'] = data.index.month\n",
    "    data['day'] = data.index.day\n",
    "    data['dayofweek'] = data.index.dayofweek\n",
    "    data['hour'] = data.index.hour\n",
    "    \n",
    "    for lag in range(1, max_lag + 1):\n",
    "        data['lag_{}'.format(lag)] = data['num_orders'].shift(lag)\n",
    "\n",
    "    data['rolling_mean'] = data['num_orders'].shift().rolling(rolling_mean_size).mean() "
   ]
  },
  {
   "cell_type": "markdown",
   "metadata": {},
   "source": [
    "Определим с помощью линейной регрессии лучшие парамтры max_lag и rolling_mean_size"
   ]
  },
  {
   "cell_type": "code",
   "execution_count": 24,
   "metadata": {
    "scrolled": true
   },
   "outputs": [
    {
     "data": {
      "text/html": [
       "<div>\n",
       "<style scoped>\n",
       "    .dataframe tbody tr th:only-of-type {\n",
       "        vertical-align: middle;\n",
       "    }\n",
       "\n",
       "    .dataframe tbody tr th {\n",
       "        vertical-align: top;\n",
       "    }\n",
       "\n",
       "    .dataframe thead th {\n",
       "        text-align: right;\n",
       "    }\n",
       "</style>\n",
       "<table border=\"1\" class=\"dataframe\">\n",
       "  <thead>\n",
       "    <tr style=\"text-align: right;\">\n",
       "      <th></th>\n",
       "      <th>max_lag</th>\n",
       "      <th>rolling_mean_size</th>\n",
       "      <th>RMSE валидационной выборки</th>\n",
       "    </tr>\n",
       "  </thead>\n",
       "  <tbody>\n",
       "    <tr>\n",
       "      <th>0</th>\n",
       "      <td>9</td>\n",
       "      <td>7</td>\n",
       "      <td>40.314311</td>\n",
       "    </tr>\n",
       "    <tr>\n",
       "      <th>0</th>\n",
       "      <td>9</td>\n",
       "      <td>9</td>\n",
       "      <td>40.320934</td>\n",
       "    </tr>\n",
       "    <tr>\n",
       "      <th>0</th>\n",
       "      <td>9</td>\n",
       "      <td>4</td>\n",
       "      <td>40.328423</td>\n",
       "    </tr>\n",
       "    <tr>\n",
       "      <th>0</th>\n",
       "      <td>9</td>\n",
       "      <td>3</td>\n",
       "      <td>40.340808</td>\n",
       "    </tr>\n",
       "    <tr>\n",
       "      <th>0</th>\n",
       "      <td>9</td>\n",
       "      <td>8</td>\n",
       "      <td>40.348286</td>\n",
       "    </tr>\n",
       "    <tr>\n",
       "      <th>0</th>\n",
       "      <td>9</td>\n",
       "      <td>5</td>\n",
       "      <td>40.369645</td>\n",
       "    </tr>\n",
       "    <tr>\n",
       "      <th>0</th>\n",
       "      <td>9</td>\n",
       "      <td>6</td>\n",
       "      <td>40.393551</td>\n",
       "    </tr>\n",
       "    <tr>\n",
       "      <th>0</th>\n",
       "      <td>9</td>\n",
       "      <td>2</td>\n",
       "      <td>40.418123</td>\n",
       "    </tr>\n",
       "    <tr>\n",
       "      <th>0</th>\n",
       "      <td>8</td>\n",
       "      <td>9</td>\n",
       "      <td>40.419910</td>\n",
       "    </tr>\n",
       "    <tr>\n",
       "      <th>0</th>\n",
       "      <td>7</td>\n",
       "      <td>9</td>\n",
       "      <td>40.425679</td>\n",
       "    </tr>\n",
       "    <tr>\n",
       "      <th>0</th>\n",
       "      <td>8</td>\n",
       "      <td>3</td>\n",
       "      <td>40.430630</td>\n",
       "    </tr>\n",
       "    <tr>\n",
       "      <th>0</th>\n",
       "      <td>9</td>\n",
       "      <td>1</td>\n",
       "      <td>40.431757</td>\n",
       "    </tr>\n",
       "    <tr>\n",
       "      <th>0</th>\n",
       "      <td>8</td>\n",
       "      <td>2</td>\n",
       "      <td>40.455579</td>\n",
       "    </tr>\n",
       "    <tr>\n",
       "      <th>0</th>\n",
       "      <td>7</td>\n",
       "      <td>5</td>\n",
       "      <td>40.472270</td>\n",
       "    </tr>\n",
       "    <tr>\n",
       "      <th>0</th>\n",
       "      <td>7</td>\n",
       "      <td>4</td>\n",
       "      <td>40.502398</td>\n",
       "    </tr>\n",
       "    <tr>\n",
       "      <th>0</th>\n",
       "      <td>6</td>\n",
       "      <td>7</td>\n",
       "      <td>40.502398</td>\n",
       "    </tr>\n",
       "    <tr>\n",
       "      <th>0</th>\n",
       "      <td>7</td>\n",
       "      <td>7</td>\n",
       "      <td>40.517054</td>\n",
       "    </tr>\n",
       "    <tr>\n",
       "      <th>0</th>\n",
       "      <td>7</td>\n",
       "      <td>1</td>\n",
       "      <td>40.521240</td>\n",
       "    </tr>\n",
       "    <tr>\n",
       "      <th>0</th>\n",
       "      <td>7</td>\n",
       "      <td>3</td>\n",
       "      <td>40.530628</td>\n",
       "    </tr>\n",
       "    <tr>\n",
       "      <th>0</th>\n",
       "      <td>8</td>\n",
       "      <td>1</td>\n",
       "      <td>40.532243</td>\n",
       "    </tr>\n",
       "    <tr>\n",
       "      <th>0</th>\n",
       "      <td>7</td>\n",
       "      <td>8</td>\n",
       "      <td>40.532243</td>\n",
       "    </tr>\n",
       "    <tr>\n",
       "      <th>0</th>\n",
       "      <td>8</td>\n",
       "      <td>7</td>\n",
       "      <td>40.533555</td>\n",
       "    </tr>\n",
       "    <tr>\n",
       "      <th>0</th>\n",
       "      <td>8</td>\n",
       "      <td>8</td>\n",
       "      <td>40.534231</td>\n",
       "    </tr>\n",
       "    <tr>\n",
       "      <th>0</th>\n",
       "      <td>8</td>\n",
       "      <td>5</td>\n",
       "      <td>40.545491</td>\n",
       "    </tr>\n",
       "    <tr>\n",
       "      <th>0</th>\n",
       "      <td>7</td>\n",
       "      <td>6</td>\n",
       "      <td>40.551169</td>\n",
       "    </tr>\n",
       "    <tr>\n",
       "      <th>0</th>\n",
       "      <td>8</td>\n",
       "      <td>6</td>\n",
       "      <td>40.557610</td>\n",
       "    </tr>\n",
       "    <tr>\n",
       "      <th>0</th>\n",
       "      <td>6</td>\n",
       "      <td>8</td>\n",
       "      <td>40.558526</td>\n",
       "    </tr>\n",
       "    <tr>\n",
       "      <th>0</th>\n",
       "      <td>7</td>\n",
       "      <td>2</td>\n",
       "      <td>40.566952</td>\n",
       "    </tr>\n",
       "    <tr>\n",
       "      <th>0</th>\n",
       "      <td>3</td>\n",
       "      <td>6</td>\n",
       "      <td>40.599336</td>\n",
       "    </tr>\n",
       "    <tr>\n",
       "      <th>0</th>\n",
       "      <td>4</td>\n",
       "      <td>6</td>\n",
       "      <td>40.602612</td>\n",
       "    </tr>\n",
       "    <tr>\n",
       "      <th>0</th>\n",
       "      <td>5</td>\n",
       "      <td>8</td>\n",
       "      <td>40.614895</td>\n",
       "    </tr>\n",
       "    <tr>\n",
       "      <th>0</th>\n",
       "      <td>8</td>\n",
       "      <td>4</td>\n",
       "      <td>40.624526</td>\n",
       "    </tr>\n",
       "    <tr>\n",
       "      <th>0</th>\n",
       "      <td>6</td>\n",
       "      <td>6</td>\n",
       "      <td>40.635369</td>\n",
       "    </tr>\n",
       "    <tr>\n",
       "      <th>0</th>\n",
       "      <td>2</td>\n",
       "      <td>6</td>\n",
       "      <td>40.636263</td>\n",
       "    </tr>\n",
       "    <tr>\n",
       "      <th>0</th>\n",
       "      <td>5</td>\n",
       "      <td>7</td>\n",
       "      <td>40.644574</td>\n",
       "    </tr>\n",
       "    <tr>\n",
       "      <th>0</th>\n",
       "      <td>6</td>\n",
       "      <td>3</td>\n",
       "      <td>40.656448</td>\n",
       "    </tr>\n",
       "    <tr>\n",
       "      <th>0</th>\n",
       "      <td>6</td>\n",
       "      <td>2</td>\n",
       "      <td>40.656448</td>\n",
       "    </tr>\n",
       "    <tr>\n",
       "      <th>0</th>\n",
       "      <td>5</td>\n",
       "      <td>6</td>\n",
       "      <td>40.656448</td>\n",
       "    </tr>\n",
       "    <tr>\n",
       "      <th>0</th>\n",
       "      <td>6</td>\n",
       "      <td>1</td>\n",
       "      <td>40.656448</td>\n",
       "    </tr>\n",
       "    <tr>\n",
       "      <th>0</th>\n",
       "      <td>4</td>\n",
       "      <td>9</td>\n",
       "      <td>40.656847</td>\n",
       "    </tr>\n",
       "    <tr>\n",
       "      <th>0</th>\n",
       "      <td>6</td>\n",
       "      <td>9</td>\n",
       "      <td>40.658741</td>\n",
       "    </tr>\n",
       "    <tr>\n",
       "      <th>0</th>\n",
       "      <td>4</td>\n",
       "      <td>7</td>\n",
       "      <td>40.659188</td>\n",
       "    </tr>\n",
       "    <tr>\n",
       "      <th>0</th>\n",
       "      <td>4</td>\n",
       "      <td>8</td>\n",
       "      <td>40.660033</td>\n",
       "    </tr>\n",
       "    <tr>\n",
       "      <th>0</th>\n",
       "      <td>5</td>\n",
       "      <td>9</td>\n",
       "      <td>40.663249</td>\n",
       "    </tr>\n",
       "    <tr>\n",
       "      <th>0</th>\n",
       "      <td>6</td>\n",
       "      <td>5</td>\n",
       "      <td>40.667210</td>\n",
       "    </tr>\n",
       "    <tr>\n",
       "      <th>0</th>\n",
       "      <td>3</td>\n",
       "      <td>5</td>\n",
       "      <td>40.668809</td>\n",
       "    </tr>\n",
       "    <tr>\n",
       "      <th>0</th>\n",
       "      <td>1</td>\n",
       "      <td>6</td>\n",
       "      <td>40.679353</td>\n",
       "    </tr>\n",
       "    <tr>\n",
       "      <th>0</th>\n",
       "      <td>2</td>\n",
       "      <td>5</td>\n",
       "      <td>40.682652</td>\n",
       "    </tr>\n",
       "    <tr>\n",
       "      <th>0</th>\n",
       "      <td>6</td>\n",
       "      <td>4</td>\n",
       "      <td>40.695293</td>\n",
       "    </tr>\n",
       "    <tr>\n",
       "      <th>0</th>\n",
       "      <td>5</td>\n",
       "      <td>2</td>\n",
       "      <td>40.698416</td>\n",
       "    </tr>\n",
       "    <tr>\n",
       "      <th>0</th>\n",
       "      <td>5</td>\n",
       "      <td>4</td>\n",
       "      <td>40.698416</td>\n",
       "    </tr>\n",
       "    <tr>\n",
       "      <th>0</th>\n",
       "      <td>5</td>\n",
       "      <td>1</td>\n",
       "      <td>40.698416</td>\n",
       "    </tr>\n",
       "    <tr>\n",
       "      <th>0</th>\n",
       "      <td>4</td>\n",
       "      <td>5</td>\n",
       "      <td>40.698416</td>\n",
       "    </tr>\n",
       "    <tr>\n",
       "      <th>0</th>\n",
       "      <td>3</td>\n",
       "      <td>7</td>\n",
       "      <td>40.703564</td>\n",
       "    </tr>\n",
       "    <tr>\n",
       "      <th>0</th>\n",
       "      <td>3</td>\n",
       "      <td>9</td>\n",
       "      <td>40.708017</td>\n",
       "    </tr>\n",
       "    <tr>\n",
       "      <th>0</th>\n",
       "      <td>2</td>\n",
       "      <td>4</td>\n",
       "      <td>40.716144</td>\n",
       "    </tr>\n",
       "    <tr>\n",
       "      <th>0</th>\n",
       "      <td>3</td>\n",
       "      <td>8</td>\n",
       "      <td>40.720366</td>\n",
       "    </tr>\n",
       "    <tr>\n",
       "      <th>0</th>\n",
       "      <td>3</td>\n",
       "      <td>4</td>\n",
       "      <td>40.730313</td>\n",
       "    </tr>\n",
       "    <tr>\n",
       "      <th>0</th>\n",
       "      <td>4</td>\n",
       "      <td>1</td>\n",
       "      <td>40.731406</td>\n",
       "    </tr>\n",
       "    <tr>\n",
       "      <th>0</th>\n",
       "      <td>4</td>\n",
       "      <td>4</td>\n",
       "      <td>40.735791</td>\n",
       "    </tr>\n",
       "    <tr>\n",
       "      <th>0</th>\n",
       "      <td>5</td>\n",
       "      <td>3</td>\n",
       "      <td>40.746239</td>\n",
       "    </tr>\n",
       "    <tr>\n",
       "      <th>0</th>\n",
       "      <td>5</td>\n",
       "      <td>5</td>\n",
       "      <td>40.747024</td>\n",
       "    </tr>\n",
       "    <tr>\n",
       "      <th>0</th>\n",
       "      <td>3</td>\n",
       "      <td>3</td>\n",
       "      <td>40.748704</td>\n",
       "    </tr>\n",
       "    <tr>\n",
       "      <th>0</th>\n",
       "      <td>4</td>\n",
       "      <td>2</td>\n",
       "      <td>40.749339</td>\n",
       "    </tr>\n",
       "    <tr>\n",
       "      <th>0</th>\n",
       "      <td>4</td>\n",
       "      <td>3</td>\n",
       "      <td>40.771754</td>\n",
       "    </tr>\n",
       "    <tr>\n",
       "      <th>0</th>\n",
       "      <td>1</td>\n",
       "      <td>7</td>\n",
       "      <td>40.782588</td>\n",
       "    </tr>\n",
       "    <tr>\n",
       "      <th>0</th>\n",
       "      <td>1</td>\n",
       "      <td>5</td>\n",
       "      <td>40.795396</td>\n",
       "    </tr>\n",
       "    <tr>\n",
       "      <th>0</th>\n",
       "      <td>1</td>\n",
       "      <td>9</td>\n",
       "      <td>40.796072</td>\n",
       "    </tr>\n",
       "    <tr>\n",
       "      <th>0</th>\n",
       "      <td>3</td>\n",
       "      <td>2</td>\n",
       "      <td>40.807286</td>\n",
       "    </tr>\n",
       "    <tr>\n",
       "      <th>0</th>\n",
       "      <td>3</td>\n",
       "      <td>1</td>\n",
       "      <td>40.807286</td>\n",
       "    </tr>\n",
       "    <tr>\n",
       "      <th>0</th>\n",
       "      <td>2</td>\n",
       "      <td>3</td>\n",
       "      <td>40.807286</td>\n",
       "    </tr>\n",
       "    <tr>\n",
       "      <th>0</th>\n",
       "      <td>2</td>\n",
       "      <td>7</td>\n",
       "      <td>40.824393</td>\n",
       "    </tr>\n",
       "    <tr>\n",
       "      <th>0</th>\n",
       "      <td>1</td>\n",
       "      <td>8</td>\n",
       "      <td>40.832045</td>\n",
       "    </tr>\n",
       "    <tr>\n",
       "      <th>0</th>\n",
       "      <td>1</td>\n",
       "      <td>4</td>\n",
       "      <td>40.873939</td>\n",
       "    </tr>\n",
       "    <tr>\n",
       "      <th>0</th>\n",
       "      <td>2</td>\n",
       "      <td>9</td>\n",
       "      <td>40.878423</td>\n",
       "    </tr>\n",
       "    <tr>\n",
       "      <th>0</th>\n",
       "      <td>2</td>\n",
       "      <td>8</td>\n",
       "      <td>40.895821</td>\n",
       "    </tr>\n",
       "    <tr>\n",
       "      <th>0</th>\n",
       "      <td>1</td>\n",
       "      <td>1</td>\n",
       "      <td>40.946404</td>\n",
       "    </tr>\n",
       "    <tr>\n",
       "      <th>0</th>\n",
       "      <td>1</td>\n",
       "      <td>3</td>\n",
       "      <td>41.018957</td>\n",
       "    </tr>\n",
       "    <tr>\n",
       "      <th>0</th>\n",
       "      <td>2</td>\n",
       "      <td>2</td>\n",
       "      <td>41.101854</td>\n",
       "    </tr>\n",
       "    <tr>\n",
       "      <th>0</th>\n",
       "      <td>1</td>\n",
       "      <td>2</td>\n",
       "      <td>41.104677</td>\n",
       "    </tr>\n",
       "    <tr>\n",
       "      <th>0</th>\n",
       "      <td>2</td>\n",
       "      <td>1</td>\n",
       "      <td>41.116547</td>\n",
       "    </tr>\n",
       "  </tbody>\n",
       "</table>\n",
       "</div>"
      ],
      "text/plain": [
       "   max_lag  rolling_mean_size  RMSE валидационной выборки\n",
       "0        9                  7                   40.314311\n",
       "0        9                  9                   40.320934\n",
       "0        9                  4                   40.328423\n",
       "0        9                  3                   40.340808\n",
       "0        9                  8                   40.348286\n",
       "0        9                  5                   40.369645\n",
       "0        9                  6                   40.393551\n",
       "0        9                  2                   40.418123\n",
       "0        8                  9                   40.419910\n",
       "0        7                  9                   40.425679\n",
       "0        8                  3                   40.430630\n",
       "0        9                  1                   40.431757\n",
       "0        8                  2                   40.455579\n",
       "0        7                  5                   40.472270\n",
       "0        7                  4                   40.502398\n",
       "0        6                  7                   40.502398\n",
       "0        7                  7                   40.517054\n",
       "0        7                  1                   40.521240\n",
       "0        7                  3                   40.530628\n",
       "0        8                  1                   40.532243\n",
       "0        7                  8                   40.532243\n",
       "0        8                  7                   40.533555\n",
       "0        8                  8                   40.534231\n",
       "0        8                  5                   40.545491\n",
       "0        7                  6                   40.551169\n",
       "0        8                  6                   40.557610\n",
       "0        6                  8                   40.558526\n",
       "0        7                  2                   40.566952\n",
       "0        3                  6                   40.599336\n",
       "0        4                  6                   40.602612\n",
       "0        5                  8                   40.614895\n",
       "0        8                  4                   40.624526\n",
       "0        6                  6                   40.635369\n",
       "0        2                  6                   40.636263\n",
       "0        5                  7                   40.644574\n",
       "0        6                  3                   40.656448\n",
       "0        6                  2                   40.656448\n",
       "0        5                  6                   40.656448\n",
       "0        6                  1                   40.656448\n",
       "0        4                  9                   40.656847\n",
       "0        6                  9                   40.658741\n",
       "0        4                  7                   40.659188\n",
       "0        4                  8                   40.660033\n",
       "0        5                  9                   40.663249\n",
       "0        6                  5                   40.667210\n",
       "0        3                  5                   40.668809\n",
       "0        1                  6                   40.679353\n",
       "0        2                  5                   40.682652\n",
       "0        6                  4                   40.695293\n",
       "0        5                  2                   40.698416\n",
       "0        5                  4                   40.698416\n",
       "0        5                  1                   40.698416\n",
       "0        4                  5                   40.698416\n",
       "0        3                  7                   40.703564\n",
       "0        3                  9                   40.708017\n",
       "0        2                  4                   40.716144\n",
       "0        3                  8                   40.720366\n",
       "0        3                  4                   40.730313\n",
       "0        4                  1                   40.731406\n",
       "0        4                  4                   40.735791\n",
       "0        5                  3                   40.746239\n",
       "0        5                  5                   40.747024\n",
       "0        3                  3                   40.748704\n",
       "0        4                  2                   40.749339\n",
       "0        4                  3                   40.771754\n",
       "0        1                  7                   40.782588\n",
       "0        1                  5                   40.795396\n",
       "0        1                  9                   40.796072\n",
       "0        3                  2                   40.807286\n",
       "0        3                  1                   40.807286\n",
       "0        2                  3                   40.807286\n",
       "0        2                  7                   40.824393\n",
       "0        1                  8                   40.832045\n",
       "0        1                  4                   40.873939\n",
       "0        2                  9                   40.878423\n",
       "0        2                  8                   40.895821\n",
       "0        1                  1                   40.946404\n",
       "0        1                  3                   41.018957\n",
       "0        2                  2                   41.101854\n",
       "0        1                  2                   41.104677\n",
       "0        2                  1                   41.116547"
      ]
     },
     "execution_count": 24,
     "metadata": {},
     "output_type": "execute_result"
    }
   ],
   "source": [
    "parametrs = pd.DataFrame([])\n",
    "for i in range(1, 10):\n",
    "    for j in range(1, 10):\n",
    "        order_taxi = pd.read_csv(\"taxi.csv\")\n",
    "        #order_taxi = pd.read_csv(\"taxi.csv\")\n",
    "        order_taxi['datetime'] = pd.to_datetime(order_taxi['datetime'], format='%Y-%m-%dT%H:%M:%S')\n",
    "        order_taxi = order_taxi.set_index('datetime')\n",
    "        order_taxi = order_taxi.resample('1H').sum() \n",
    "        make_features(order_taxi, i, j)\n",
    "        order_taxi = order_taxi.dropna()\n",
    "        \n",
    "        comm, test = train_test_split(order_taxi, shuffle=False, test_size=0.1)\n",
    "        train, valid = train_test_split(comm, shuffle=False, test_size=0.11)\n",
    "\n",
    "        target_train = train['num_orders']\n",
    "        features_train = train.drop(['num_orders'],  axis=1)\n",
    "\n",
    "        target_valid = valid['num_orders']\n",
    "        features_valid = valid.drop(['num_orders'],  axis=1)\n",
    "\n",
    "        target_test = test['num_orders']\n",
    "        features_test = test.drop(['num_orders'],  axis=1)\n",
    "        \n",
    "        model = LinearRegression()\n",
    "        model.fit(features_train, target_train)\n",
    "        predicted_train = model.predict(features_train)\n",
    "        predicted_valid = model.predict(features_valid)\n",
    "       \n",
    "    \n",
    "        parametrs = parametrs.append(pd.DataFrame({\"max_lag\": [i],\n",
    "                                               \"rolling_mean_size\": [j],\n",
    "                                               \"RMSE валидационной выборки\": [np.sqrt(mean_squared_error(target_valid, predicted_valid))],\n",
    "                                              }))\n",
    "parametrs.sort_values(\"RMSE валидационной выборки\")"
   ]
  },
  {
   "cell_type": "markdown",
   "metadata": {},
   "source": [
    "По таблице после ранжирования RMSE валидационной выборки определяем лучшие параметры max_lag и rolling_mean_size. В нашем случае это 9 и 7 соответсвенно. Далее именно их я закрепляю при создании признаков. Их дальше и будем использовать при формировании признаков. Создадим их."
   ]
  },
  {
   "cell_type": "code",
   "execution_count": 26,
   "metadata": {
    "scrolled": true
   },
   "outputs": [
    {
     "data": {
      "text/html": [
       "<div>\n",
       "<style scoped>\n",
       "    .dataframe tbody tr th:only-of-type {\n",
       "        vertical-align: middle;\n",
       "    }\n",
       "\n",
       "    .dataframe tbody tr th {\n",
       "        vertical-align: top;\n",
       "    }\n",
       "\n",
       "    .dataframe thead th {\n",
       "        text-align: right;\n",
       "    }\n",
       "</style>\n",
       "<table border=\"1\" class=\"dataframe\">\n",
       "  <thead>\n",
       "    <tr style=\"text-align: right;\">\n",
       "      <th></th>\n",
       "      <th>num_orders</th>\n",
       "      <th>month</th>\n",
       "      <th>day</th>\n",
       "      <th>dayofweek</th>\n",
       "      <th>hour</th>\n",
       "      <th>lag_1</th>\n",
       "      <th>lag_2</th>\n",
       "      <th>lag_3</th>\n",
       "      <th>lag_4</th>\n",
       "      <th>lag_5</th>\n",
       "      <th>lag_6</th>\n",
       "      <th>lag_7</th>\n",
       "      <th>lag_8</th>\n",
       "      <th>lag_9</th>\n",
       "      <th>rolling_mean</th>\n",
       "    </tr>\n",
       "    <tr>\n",
       "      <th>datetime</th>\n",
       "      <th></th>\n",
       "      <th></th>\n",
       "      <th></th>\n",
       "      <th></th>\n",
       "      <th></th>\n",
       "      <th></th>\n",
       "      <th></th>\n",
       "      <th></th>\n",
       "      <th></th>\n",
       "      <th></th>\n",
       "      <th></th>\n",
       "      <th></th>\n",
       "      <th></th>\n",
       "      <th></th>\n",
       "      <th></th>\n",
       "    </tr>\n",
       "  </thead>\n",
       "  <tbody>\n",
       "    <tr>\n",
       "      <th>2018-03-01 09:00:00</th>\n",
       "      <td>69</td>\n",
       "      <td>3</td>\n",
       "      <td>1</td>\n",
       "      <td>3</td>\n",
       "      <td>9</td>\n",
       "      <td>34.0</td>\n",
       "      <td>15.0</td>\n",
       "      <td>12.0</td>\n",
       "      <td>6.0</td>\n",
       "      <td>43.0</td>\n",
       "      <td>66.0</td>\n",
       "      <td>71.0</td>\n",
       "      <td>85.0</td>\n",
       "      <td>124.0</td>\n",
       "      <td>35.285714</td>\n",
       "    </tr>\n",
       "    <tr>\n",
       "      <th>2018-03-01 10:00:00</th>\n",
       "      <td>64</td>\n",
       "      <td>3</td>\n",
       "      <td>1</td>\n",
       "      <td>3</td>\n",
       "      <td>10</td>\n",
       "      <td>69.0</td>\n",
       "      <td>34.0</td>\n",
       "      <td>15.0</td>\n",
       "      <td>12.0</td>\n",
       "      <td>6.0</td>\n",
       "      <td>43.0</td>\n",
       "      <td>66.0</td>\n",
       "      <td>71.0</td>\n",
       "      <td>85.0</td>\n",
       "      <td>35.000000</td>\n",
       "    </tr>\n",
       "    <tr>\n",
       "      <th>2018-03-01 11:00:00</th>\n",
       "      <td>96</td>\n",
       "      <td>3</td>\n",
       "      <td>1</td>\n",
       "      <td>3</td>\n",
       "      <td>11</td>\n",
       "      <td>64.0</td>\n",
       "      <td>69.0</td>\n",
       "      <td>34.0</td>\n",
       "      <td>15.0</td>\n",
       "      <td>12.0</td>\n",
       "      <td>6.0</td>\n",
       "      <td>43.0</td>\n",
       "      <td>66.0</td>\n",
       "      <td>71.0</td>\n",
       "      <td>34.714286</td>\n",
       "    </tr>\n",
       "    <tr>\n",
       "      <th>2018-03-01 12:00:00</th>\n",
       "      <td>30</td>\n",
       "      <td>3</td>\n",
       "      <td>1</td>\n",
       "      <td>3</td>\n",
       "      <td>12</td>\n",
       "      <td>96.0</td>\n",
       "      <td>64.0</td>\n",
       "      <td>69.0</td>\n",
       "      <td>34.0</td>\n",
       "      <td>15.0</td>\n",
       "      <td>12.0</td>\n",
       "      <td>6.0</td>\n",
       "      <td>43.0</td>\n",
       "      <td>66.0</td>\n",
       "      <td>42.285714</td>\n",
       "    </tr>\n",
       "    <tr>\n",
       "      <th>2018-03-01 13:00:00</th>\n",
       "      <td>32</td>\n",
       "      <td>3</td>\n",
       "      <td>1</td>\n",
       "      <td>3</td>\n",
       "      <td>13</td>\n",
       "      <td>30.0</td>\n",
       "      <td>96.0</td>\n",
       "      <td>64.0</td>\n",
       "      <td>69.0</td>\n",
       "      <td>34.0</td>\n",
       "      <td>15.0</td>\n",
       "      <td>12.0</td>\n",
       "      <td>6.0</td>\n",
       "      <td>43.0</td>\n",
       "      <td>45.714286</td>\n",
       "    </tr>\n",
       "    <tr>\n",
       "      <th>...</th>\n",
       "      <td>...</td>\n",
       "      <td>...</td>\n",
       "      <td>...</td>\n",
       "      <td>...</td>\n",
       "      <td>...</td>\n",
       "      <td>...</td>\n",
       "      <td>...</td>\n",
       "      <td>...</td>\n",
       "      <td>...</td>\n",
       "      <td>...</td>\n",
       "      <td>...</td>\n",
       "      <td>...</td>\n",
       "      <td>...</td>\n",
       "      <td>...</td>\n",
       "      <td>...</td>\n",
       "    </tr>\n",
       "    <tr>\n",
       "      <th>2018-08-31 19:00:00</th>\n",
       "      <td>136</td>\n",
       "      <td>8</td>\n",
       "      <td>31</td>\n",
       "      <td>4</td>\n",
       "      <td>19</td>\n",
       "      <td>207.0</td>\n",
       "      <td>217.0</td>\n",
       "      <td>197.0</td>\n",
       "      <td>116.0</td>\n",
       "      <td>133.0</td>\n",
       "      <td>166.0</td>\n",
       "      <td>136.0</td>\n",
       "      <td>167.0</td>\n",
       "      <td>191.0</td>\n",
       "      <td>167.428571</td>\n",
       "    </tr>\n",
       "    <tr>\n",
       "      <th>2018-08-31 20:00:00</th>\n",
       "      <td>154</td>\n",
       "      <td>8</td>\n",
       "      <td>31</td>\n",
       "      <td>4</td>\n",
       "      <td>20</td>\n",
       "      <td>136.0</td>\n",
       "      <td>207.0</td>\n",
       "      <td>217.0</td>\n",
       "      <td>197.0</td>\n",
       "      <td>116.0</td>\n",
       "      <td>133.0</td>\n",
       "      <td>166.0</td>\n",
       "      <td>136.0</td>\n",
       "      <td>167.0</td>\n",
       "      <td>167.428571</td>\n",
       "    </tr>\n",
       "    <tr>\n",
       "      <th>2018-08-31 21:00:00</th>\n",
       "      <td>159</td>\n",
       "      <td>8</td>\n",
       "      <td>31</td>\n",
       "      <td>4</td>\n",
       "      <td>21</td>\n",
       "      <td>154.0</td>\n",
       "      <td>136.0</td>\n",
       "      <td>207.0</td>\n",
       "      <td>217.0</td>\n",
       "      <td>197.0</td>\n",
       "      <td>116.0</td>\n",
       "      <td>133.0</td>\n",
       "      <td>166.0</td>\n",
       "      <td>136.0</td>\n",
       "      <td>165.714286</td>\n",
       "    </tr>\n",
       "    <tr>\n",
       "      <th>2018-08-31 22:00:00</th>\n",
       "      <td>223</td>\n",
       "      <td>8</td>\n",
       "      <td>31</td>\n",
       "      <td>4</td>\n",
       "      <td>22</td>\n",
       "      <td>159.0</td>\n",
       "      <td>154.0</td>\n",
       "      <td>136.0</td>\n",
       "      <td>207.0</td>\n",
       "      <td>217.0</td>\n",
       "      <td>197.0</td>\n",
       "      <td>116.0</td>\n",
       "      <td>133.0</td>\n",
       "      <td>166.0</td>\n",
       "      <td>169.428571</td>\n",
       "    </tr>\n",
       "    <tr>\n",
       "      <th>2018-08-31 23:00:00</th>\n",
       "      <td>205</td>\n",
       "      <td>8</td>\n",
       "      <td>31</td>\n",
       "      <td>4</td>\n",
       "      <td>23</td>\n",
       "      <td>223.0</td>\n",
       "      <td>159.0</td>\n",
       "      <td>154.0</td>\n",
       "      <td>136.0</td>\n",
       "      <td>207.0</td>\n",
       "      <td>217.0</td>\n",
       "      <td>197.0</td>\n",
       "      <td>116.0</td>\n",
       "      <td>133.0</td>\n",
       "      <td>184.714286</td>\n",
       "    </tr>\n",
       "  </tbody>\n",
       "</table>\n",
       "<p>4407 rows × 15 columns</p>\n",
       "</div>"
      ],
      "text/plain": [
       "                     num_orders  month  day  dayofweek  hour  lag_1  lag_2  \\\n",
       "datetime                                                                     \n",
       "2018-03-01 09:00:00          69      3    1          3     9   34.0   15.0   \n",
       "2018-03-01 10:00:00          64      3    1          3    10   69.0   34.0   \n",
       "2018-03-01 11:00:00          96      3    1          3    11   64.0   69.0   \n",
       "2018-03-01 12:00:00          30      3    1          3    12   96.0   64.0   \n",
       "2018-03-01 13:00:00          32      3    1          3    13   30.0   96.0   \n",
       "...                         ...    ...  ...        ...   ...    ...    ...   \n",
       "2018-08-31 19:00:00         136      8   31          4    19  207.0  217.0   \n",
       "2018-08-31 20:00:00         154      8   31          4    20  136.0  207.0   \n",
       "2018-08-31 21:00:00         159      8   31          4    21  154.0  136.0   \n",
       "2018-08-31 22:00:00         223      8   31          4    22  159.0  154.0   \n",
       "2018-08-31 23:00:00         205      8   31          4    23  223.0  159.0   \n",
       "\n",
       "                     lag_3  lag_4  lag_5  lag_6  lag_7  lag_8  lag_9  \\\n",
       "datetime                                                               \n",
       "2018-03-01 09:00:00   12.0    6.0   43.0   66.0   71.0   85.0  124.0   \n",
       "2018-03-01 10:00:00   15.0   12.0    6.0   43.0   66.0   71.0   85.0   \n",
       "2018-03-01 11:00:00   34.0   15.0   12.0    6.0   43.0   66.0   71.0   \n",
       "2018-03-01 12:00:00   69.0   34.0   15.0   12.0    6.0   43.0   66.0   \n",
       "2018-03-01 13:00:00   64.0   69.0   34.0   15.0   12.0    6.0   43.0   \n",
       "...                    ...    ...    ...    ...    ...    ...    ...   \n",
       "2018-08-31 19:00:00  197.0  116.0  133.0  166.0  136.0  167.0  191.0   \n",
       "2018-08-31 20:00:00  217.0  197.0  116.0  133.0  166.0  136.0  167.0   \n",
       "2018-08-31 21:00:00  207.0  217.0  197.0  116.0  133.0  166.0  136.0   \n",
       "2018-08-31 22:00:00  136.0  207.0  217.0  197.0  116.0  133.0  166.0   \n",
       "2018-08-31 23:00:00  154.0  136.0  207.0  217.0  197.0  116.0  133.0   \n",
       "\n",
       "                     rolling_mean  \n",
       "datetime                           \n",
       "2018-03-01 09:00:00     35.285714  \n",
       "2018-03-01 10:00:00     35.000000  \n",
       "2018-03-01 11:00:00     34.714286  \n",
       "2018-03-01 12:00:00     42.285714  \n",
       "2018-03-01 13:00:00     45.714286  \n",
       "...                           ...  \n",
       "2018-08-31 19:00:00    167.428571  \n",
       "2018-08-31 20:00:00    167.428571  \n",
       "2018-08-31 21:00:00    165.714286  \n",
       "2018-08-31 22:00:00    169.428571  \n",
       "2018-08-31 23:00:00    184.714286  \n",
       "\n",
       "[4407 rows x 15 columns]"
      ]
     },
     "execution_count": 26,
     "metadata": {},
     "output_type": "execute_result"
    }
   ],
   "source": [
    "order_taxi = pd.read_csv(\"taxi.csv\")\n",
    "order_taxi['datetime'] = pd.to_datetime(order_taxi['datetime'], format='%Y-%m-%dT%H:%M:%S')\n",
    "order_taxi = order_taxi.set_index('datetime')\n",
    "order_taxi = order_taxi.resample('1H').sum() \n",
    "make_features(order_taxi, 9, 7)\n",
    "order_taxi = order_taxi.dropna()\n",
    "order_taxi"
   ]
  },
  {
   "cell_type": "markdown",
   "metadata": {},
   "source": [
    "## 3.2. Обучение моделей"
   ]
  },
  {
   "cell_type": "markdown",
   "metadata": {},
   "source": [
    "### 3.2.1. Линейная регрессия"
   ]
  },
  {
   "cell_type": "markdown",
   "metadata": {},
   "source": [
    "Обучим линейную регрессию. Для обучения будем использовать объединенную выборку из feaures_train и feaures_valid, потому ,что выборки небольшие и чтобы не разрывать временной ряд. Аналогично я буду поступать и для других моделей."
   ]
  },
  {
   "cell_type": "code",
   "execution_count": 27,
   "metadata": {},
   "outputs": [],
   "source": [
    "comm, test = train_test_split(order_taxi, shuffle=False, test_size=0.1)\n",
    "train, valid = train_test_split(comm, shuffle=False, test_size=0.11)\n",
    "\n",
    "target_train = train['num_orders']\n",
    "features_train = train.drop(['num_orders'],  axis=1)\n",
    "\n",
    "target_valid = valid['num_orders']\n",
    "feaures_valid = valid.drop(['num_orders'],  axis=1)\n",
    "\n",
    "target_test = test['num_orders']\n",
    "features_test = test.drop(['num_orders'],  axis=1)\n",
    "\n",
    "target_comm = comm['num_orders']\n",
    "features_comm = comm.drop(['num_orders'],  axis=1)"
   ]
  },
  {
   "cell_type": "code",
   "execution_count": 28,
   "metadata": {},
   "outputs": [
    {
     "data": {
      "text/html": [
       "<div>\n",
       "<style scoped>\n",
       "    .dataframe tbody tr th:only-of-type {\n",
       "        vertical-align: middle;\n",
       "    }\n",
       "\n",
       "    .dataframe tbody tr th {\n",
       "        vertical-align: top;\n",
       "    }\n",
       "\n",
       "    .dataframe thead th {\n",
       "        text-align: right;\n",
       "    }\n",
       "</style>\n",
       "<table border=\"1\" class=\"dataframe\">\n",
       "  <thead>\n",
       "    <tr style=\"text-align: right;\">\n",
       "      <th></th>\n",
       "      <th>model</th>\n",
       "      <th>iterations</th>\n",
       "      <th>learning_rate</th>\n",
       "      <th>RMSE_train</th>\n",
       "      <th>RMSE_val</th>\n",
       "      <th>Overfit</th>\n",
       "    </tr>\n",
       "  </thead>\n",
       "  <tbody>\n",
       "    <tr>\n",
       "      <th>0</th>\n",
       "      <td>LinearRegression</td>\n",
       "      <td></td>\n",
       "      <td></td>\n",
       "      <td>28.795598</td>\n",
       "      <td>39.943985</td>\n",
       "      <td>-11.148387</td>\n",
       "    </tr>\n",
       "  </tbody>\n",
       "</table>\n",
       "</div>"
      ],
      "text/plain": [
       "              model iterations learning_rate  RMSE_train   RMSE_val    Overfit\n",
       "0  LinearRegression                            28.795598  39.943985 -11.148387"
      ]
     },
     "execution_count": 28,
     "metadata": {},
     "output_type": "execute_result"
    }
   ],
   "source": [
    "model_param = pd.DataFrame([])\n",
    "LR = LinearRegression()\n",
    "LR.fit(features_comm, target_comm)\n",
    "predicted_train = LR.predict(features_train)\n",
    "predicted_valid = LR.predict(feaures_valid)\n",
    "       \n",
    "model_param = model_param.append(pd.DataFrame({\"model\": [\"LinearRegression\"],\n",
    "                                               \"iterations\": [\"\"],\n",
    "                                               \"learning_rate\": [\"\"],\n",
    "                                               \"RMSE_train\": [np.sqrt(mean_squared_error(target_train, predicted_train))],\n",
    "                                               \"RMSE_val\": [np.sqrt(mean_squared_error(target_valid, predicted_valid))],\n",
    "                                               \"Overfit\": [np.sqrt(mean_squared_error(target_train, predicted_train)) - np.sqrt(mean_squared_error(target_valid, predicted_valid))],   \n",
    "                                               }))\n",
    "model_param"
   ]
  },
  {
   "cell_type": "markdown",
   "metadata": {},
   "source": [
    "### 3.2.2. RandomForestRegressor"
   ]
  },
  {
   "cell_type": "markdown",
   "metadata": {},
   "source": [
    "Подберем параметры для RandomForestRegressor с помощью GridSearchCV"
   ]
  },
  {
   "cell_type": "code",
   "execution_count": 29,
   "metadata": {},
   "outputs": [
    {
     "data": {
      "text/plain": [
       "GridSearchCV(cv=5, error_score='raise-deprecating',\n",
       "             estimator=RandomForestRegressor(bootstrap=True, criterion='mse',\n",
       "                                             max_depth=None,\n",
       "                                             max_features='auto',\n",
       "                                             max_leaf_nodes=None,\n",
       "                                             min_impurity_decrease=0.0,\n",
       "                                             min_impurity_split=None,\n",
       "                                             min_samples_leaf=1,\n",
       "                                             min_samples_split=2,\n",
       "                                             min_weight_fraction_leaf=0.0,\n",
       "                                             n_estimators='warn', n_jobs=None,\n",
       "                                             oob_score=False,\n",
       "                                             random_state=12345, verbose=0,\n",
       "                                             warm_start=False),\n",
       "             iid='warn', n_jobs=None,\n",
       "             param_grid={'max_depth': range(10, 20, 3),\n",
       "                         'n_estimators': range(70, 100, 10)},\n",
       "             pre_dispatch='2*n_jobs', refit=True, return_train_score=False,\n",
       "             scoring=None, verbose=0)"
      ]
     },
     "execution_count": 29,
     "metadata": {},
     "output_type": "execute_result"
    }
   ],
   "source": [
    "from sklearn.model_selection import GridSearchCV\n",
    "model = RandomForestRegressor(random_state=12345)\n",
    "\n",
    "parametrs = {\"n_estimators\": range(70, 100, 10), \"max_depth\": range(10, 20, 3)}\n",
    "grid_search_cv_model = GridSearchCV(model, parametrs, cv = 5)\n",
    "grid_search_cv_model"
   ]
  },
  {
   "cell_type": "code",
   "execution_count": 30,
   "metadata": {},
   "outputs": [
    {
     "data": {
      "text/plain": [
       "GridSearchCV(cv=5, error_score='raise-deprecating',\n",
       "             estimator=RandomForestRegressor(bootstrap=True, criterion='mse',\n",
       "                                             max_depth=None,\n",
       "                                             max_features='auto',\n",
       "                                             max_leaf_nodes=None,\n",
       "                                             min_impurity_decrease=0.0,\n",
       "                                             min_impurity_split=None,\n",
       "                                             min_samples_leaf=1,\n",
       "                                             min_samples_split=2,\n",
       "                                             min_weight_fraction_leaf=0.0,\n",
       "                                             n_estimators='warn', n_jobs=None,\n",
       "                                             oob_score=False,\n",
       "                                             random_state=12345, verbose=0,\n",
       "                                             warm_start=False),\n",
       "             iid='warn', n_jobs=None,\n",
       "             param_grid={'max_depth': range(10, 20, 3),\n",
       "                         'n_estimators': range(70, 100, 10)},\n",
       "             pre_dispatch='2*n_jobs', refit=True, return_train_score=False,\n",
       "             scoring=None, verbose=0)"
      ]
     },
     "execution_count": 30,
     "metadata": {},
     "output_type": "execute_result"
    }
   ],
   "source": [
    "grid_search_cv_model.fit(features_comm, target_comm)"
   ]
  },
  {
   "cell_type": "code",
   "execution_count": 31,
   "metadata": {},
   "outputs": [
    {
     "data": {
      "text/plain": [
       "{'max_depth': 19, 'n_estimators': 90}"
      ]
     },
     "execution_count": 31,
     "metadata": {},
     "output_type": "execute_result"
    }
   ],
   "source": [
    "grid_search_cv_model.best_params_"
   ]
  },
  {
   "cell_type": "code",
   "execution_count": 32,
   "metadata": {},
   "outputs": [
    {
     "data": {
      "text/plain": [
       "RandomForestRegressor(bootstrap=True, criterion='mse', max_depth=19,\n",
       "                      max_features='auto', max_leaf_nodes=None,\n",
       "                      min_impurity_decrease=0.0, min_impurity_split=None,\n",
       "                      min_samples_leaf=1, min_samples_split=2,\n",
       "                      min_weight_fraction_leaf=0.0, n_estimators=90,\n",
       "                      n_jobs=None, oob_score=False, random_state=12345,\n",
       "                      verbose=0, warm_start=False)"
      ]
     },
     "execution_count": 32,
     "metadata": {},
     "output_type": "execute_result"
    }
   ],
   "source": [
    "RandomForestRegressor = grid_search_cv_model.best_estimator_\n",
    "RandomForestRegressor"
   ]
  },
  {
   "cell_type": "code",
   "execution_count": 33,
   "metadata": {},
   "outputs": [
    {
     "data": {
      "text/html": [
       "<div>\n",
       "<style scoped>\n",
       "    .dataframe tbody tr th:only-of-type {\n",
       "        vertical-align: middle;\n",
       "    }\n",
       "\n",
       "    .dataframe tbody tr th {\n",
       "        vertical-align: top;\n",
       "    }\n",
       "\n",
       "    .dataframe thead th {\n",
       "        text-align: right;\n",
       "    }\n",
       "</style>\n",
       "<table border=\"1\" class=\"dataframe\">\n",
       "  <thead>\n",
       "    <tr style=\"text-align: right;\">\n",
       "      <th></th>\n",
       "      <th>model</th>\n",
       "      <th>iterations</th>\n",
       "      <th>learning_rate</th>\n",
       "      <th>RMSE_train</th>\n",
       "      <th>RMSE_val</th>\n",
       "      <th>Overfit</th>\n",
       "    </tr>\n",
       "  </thead>\n",
       "  <tbody>\n",
       "    <tr>\n",
       "      <th>0</th>\n",
       "      <td>LinearRegression</td>\n",
       "      <td></td>\n",
       "      <td></td>\n",
       "      <td>28.795598</td>\n",
       "      <td>39.943985</td>\n",
       "      <td>-11.148387</td>\n",
       "    </tr>\n",
       "    <tr>\n",
       "      <th>0</th>\n",
       "      <td>RandomForestRegressor</td>\n",
       "      <td></td>\n",
       "      <td></td>\n",
       "      <td>8.063051</td>\n",
       "      <td>11.935192</td>\n",
       "      <td>-3.872142</td>\n",
       "    </tr>\n",
       "  </tbody>\n",
       "</table>\n",
       "</div>"
      ],
      "text/plain": [
       "                   model iterations learning_rate  RMSE_train   RMSE_val  \\\n",
       "0       LinearRegression                            28.795598  39.943985   \n",
       "0  RandomForestRegressor                             8.063051  11.935192   \n",
       "\n",
       "     Overfit  \n",
       "0 -11.148387  \n",
       "0  -3.872142  "
      ]
     },
     "execution_count": 33,
     "metadata": {},
     "output_type": "execute_result"
    }
   ],
   "source": [
    "RandomForestRegressor.fit(features_comm, target_comm)\n",
    "predicted_train = RandomForestRegressor.predict(features_train)\n",
    "predicted_valid = RandomForestRegressor.predict(feaures_valid)\n",
    "        \n",
    "model_param = model_param.append(pd.DataFrame({\"model\": [\"RandomForestRegressor\"],\n",
    "                                               \"iterations\": [\"\"],\n",
    "                                               \"learning_rate\": [\"\"],\n",
    "                                               \"RMSE_train\": [np.sqrt(mean_squared_error(target_train, predicted_train))],\n",
    "                                               \"RMSE_val\": [np.sqrt(mean_squared_error(target_valid, predicted_valid))],\n",
    "                                               \"Overfit\": [np.sqrt(mean_squared_error(target_train, predicted_train)) - np.sqrt(mean_squared_error(target_valid, predicted_valid))],   \n",
    "                                               }))\n",
    "model_param\n"
   ]
  },
  {
   "cell_type": "markdown",
   "metadata": {},
   "source": [
    "### 3.2.3. CatBoost"
   ]
  },
  {
   "cell_type": "code",
   "execution_count": 34,
   "metadata": {},
   "outputs": [],
   "source": [
    "from catboost import CatBoostRegressor, Pool\n",
    "from sklearn.metrics import mean_squared_error"
   ]
  },
  {
   "cell_type": "markdown",
   "metadata": {},
   "source": [
    "Подготовим данные для CatBoost. Разделим дата сет на обучающую, валидационную и тестовую выборки"
   ]
  },
  {
   "cell_type": "code",
   "execution_count": 35,
   "metadata": {},
   "outputs": [],
   "source": [
    "df_com, df_test = train_test_split(order_taxi, shuffle=False, test_size=0.1, random_state=12345)\n",
    "df_train, df_val = train_test_split(df_com, shuffle=False, test_size=0.1, random_state=12345)"
   ]
  },
  {
   "cell_type": "markdown",
   "metadata": {},
   "source": [
    "Сформируем наборы данных для обучния"
   ]
  },
  {
   "cell_type": "code",
   "execution_count": 36,
   "metadata": {},
   "outputs": [],
   "source": [
    "train_pool = Pool(df_train.drop(['num_orders'],  axis=1),\n",
    "                  label=df_train.num_orders.values)"
   ]
  },
  {
   "cell_type": "code",
   "execution_count": 37,
   "metadata": {},
   "outputs": [],
   "source": [
    "val_pool = Pool(df_val.drop(['num_orders'],  axis=1),\n",
    "                label=df_val.num_orders)"
   ]
  },
  {
   "cell_type": "code",
   "execution_count": 38,
   "metadata": {},
   "outputs": [],
   "source": [
    "test_pool = Pool(df_test.drop(['num_orders'],  axis=1),\n",
    "                label=df_test.num_orders)"
   ]
  },
  {
   "cell_type": "code",
   "execution_count": 39,
   "metadata": {},
   "outputs": [],
   "source": [
    "df_com_pool = Pool(df_com.drop(['num_orders'],  axis=1),\n",
    "                label=df_com.num_orders)"
   ]
  },
  {
   "cell_type": "markdown",
   "metadata": {},
   "source": [
    "Подберем лучшие параметры для модели спомощью библиотеки hyperopt"
   ]
  },
  {
   "cell_type": "code",
   "execution_count": 40,
   "metadata": {},
   "outputs": [
    {
     "name": "stdout",
     "output_type": "stream",
     "text": [
      "100%|██████| 100/100 [01:36<00:00,  1.04trial/s, best loss: 31.376927233960362]\n",
      "best:\n",
      "({'learning_rate': 0.26, 'max_depth': 5.0, 'n_estimators': 800.0}, <hyperopt.base.Trials object at 0x0000000019B6AE88>)\n"
     ]
    }
   ],
   "source": [
    "import hyperopt\n",
    "import catboost as ctb\n",
    "from hyperopt import fmin, hp, tpe, STATUS_OK, STATUS_FAIL, Trials\n",
    "\n",
    "ctb_reg_params = {\n",
    "    'learning_rate':  hp.quniform('learning_rate', 0.01, 0.3, 0.02),\n",
    "    'max_depth': hp.quniform('max_depth', 1, 6, 1),\n",
    "    'n_estimators': hp.quniform('n_estimators', 400, 1000, 100),\n",
    "    'eval_metric': 'RMSE',\n",
    "}\n",
    "\n",
    "ctb_fit_params = {\n",
    "    'early_stopping_rounds': 10,\n",
    "    'verbose': False\n",
    "}\n",
    "\n",
    "ctb_para = dict()\n",
    "ctb_para['reg_params'] = ctb_reg_params\n",
    "ctb_para['fit_params'] = ctb_fit_params\n",
    "ctb_para['loss_func' ] = lambda y, pred: np.sqrt(mean_squared_error(y, pred))\n",
    "\n",
    "\n",
    "class HPOpt(object):\n",
    "\n",
    "    def __init__(self, x_train, x_test, y_train, y_test):\n",
    "        self.x_train = x_train\n",
    "        self.x_test  = x_test\n",
    "        self.y_train = y_train\n",
    "        self.y_test  = y_test\n",
    "\n",
    "    def process(self, fn_name, space, trials, algo, max_evals):\n",
    "        fn = getattr(self, fn_name)\n",
    "        try:\n",
    "            result = fmin(fn=fn, space=space, algo=algo, max_evals=max_evals, trials=trials)\n",
    "        except Exception as e:\n",
    "            return {'status': STATUS_FAIL,\n",
    "                    'exception': str(e)}\n",
    "        return result, trials\n",
    "    \n",
    "    def ctb_reg(self, para):\n",
    "        reg = ctb.CatBoostRegressor(**para['reg_params'])\n",
    "        return self.train_reg(reg, para)\n",
    "\n",
    "    def train_reg(self, reg, para):\n",
    "        reg.fit(self.x_train, self.y_train,\n",
    "                eval_set=[(self.x_train, self.y_train), (self.x_test, self.y_test)],\n",
    "                **para['fit_params'])\n",
    "        pred = reg.predict(self.x_test)\n",
    "        loss = para['loss_func'](self.y_test, pred)\n",
    "        return {'loss': loss, 'status': STATUS_OK}\n",
    "    \n",
    "\n",
    "obj =  HPOpt( df_train.drop(['num_orders'], 1), df_val.drop(['num_orders'], 1), df_train.num_orders, df_val.num_orders)\n",
    "ctb_opt = obj.process(fn_name='ctb_reg', space=ctb_para, trials=Trials(), algo=tpe.suggest, max_evals=100)\n",
    "\n",
    "\n",
    "print('best:')\n",
    "print(ctb_opt)"
   ]
  },
  {
   "cell_type": "markdown",
   "metadata": {},
   "source": [
    "Обучим модели и сохрамим параметры их обучния и предсказания"
   ]
  },
  {
   "cell_type": "code",
   "execution_count": 41,
   "metadata": {
    "scrolled": true
   },
   "outputs": [
    {
     "data": {
      "text/html": [
       "<div>\n",
       "<style scoped>\n",
       "    .dataframe tbody tr th:only-of-type {\n",
       "        vertical-align: middle;\n",
       "    }\n",
       "\n",
       "    .dataframe tbody tr th {\n",
       "        vertical-align: top;\n",
       "    }\n",
       "\n",
       "    .dataframe thead th {\n",
       "        text-align: right;\n",
       "    }\n",
       "</style>\n",
       "<table border=\"1\" class=\"dataframe\">\n",
       "  <thead>\n",
       "    <tr style=\"text-align: right;\">\n",
       "      <th></th>\n",
       "      <th>model</th>\n",
       "      <th>iterations</th>\n",
       "      <th>learning_rate</th>\n",
       "      <th>RMSE_train</th>\n",
       "      <th>RMSE_val</th>\n",
       "      <th>Overfit</th>\n",
       "    </tr>\n",
       "  </thead>\n",
       "  <tbody>\n",
       "    <tr>\n",
       "      <th>0</th>\n",
       "      <td>LinearRegression</td>\n",
       "      <td></td>\n",
       "      <td></td>\n",
       "      <td>28.795598</td>\n",
       "      <td>39.943985</td>\n",
       "      <td>-11.148387</td>\n",
       "    </tr>\n",
       "    <tr>\n",
       "      <th>0</th>\n",
       "      <td>RandomForestRegressor</td>\n",
       "      <td></td>\n",
       "      <td></td>\n",
       "      <td>8.063051</td>\n",
       "      <td>11.935192</td>\n",
       "      <td>-3.872142</td>\n",
       "    </tr>\n",
       "    <tr>\n",
       "      <th>0</th>\n",
       "      <td>CatBoost</td>\n",
       "      <td>900</td>\n",
       "      <td>0.26</td>\n",
       "      <td>6.263038</td>\n",
       "      <td>4.274265</td>\n",
       "      <td>-1.988772</td>\n",
       "    </tr>\n",
       "    <tr>\n",
       "      <th>0</th>\n",
       "      <td>CatBoost</td>\n",
       "      <td>700</td>\n",
       "      <td>0.2</td>\n",
       "      <td>9.187416</td>\n",
       "      <td>6.685885</td>\n",
       "      <td>-2.501531</td>\n",
       "    </tr>\n",
       "    <tr>\n",
       "      <th>0</th>\n",
       "      <td>CatBoost</td>\n",
       "      <td>600</td>\n",
       "      <td>0.1</td>\n",
       "      <td>13.738360</td>\n",
       "      <td>12.700151</td>\n",
       "      <td>-1.038209</td>\n",
       "    </tr>\n",
       "    <tr>\n",
       "      <th>0</th>\n",
       "      <td>CatBoost</td>\n",
       "      <td>500</td>\n",
       "      <td>0.05</td>\n",
       "      <td>17.345519</td>\n",
       "      <td>19.160338</td>\n",
       "      <td>1.814819</td>\n",
       "    </tr>\n",
       "  </tbody>\n",
       "</table>\n",
       "</div>"
      ],
      "text/plain": [
       "                   model iterations learning_rate  RMSE_train   RMSE_val  \\\n",
       "0       LinearRegression                            28.795598  39.943985   \n",
       "0  RandomForestRegressor                             8.063051  11.935192   \n",
       "0               CatBoost        900          0.26    6.263038   4.274265   \n",
       "0               CatBoost        700           0.2    9.187416   6.685885   \n",
       "0               CatBoost        600           0.1   13.738360  12.700151   \n",
       "0               CatBoost        500          0.05   17.345519  19.160338   \n",
       "\n",
       "     Overfit  \n",
       "0 -11.148387  \n",
       "0  -3.872142  \n",
       "0  -1.988772  \n",
       "0  -2.501531  \n",
       "0  -1.038209  \n",
       "0   1.814819  "
      ]
     },
     "execution_count": 41,
     "metadata": {},
     "output_type": "execute_result"
    }
   ],
   "source": [
    "model_1 = CatBoostRegressor(objective='RMSE', max_depth = 5, iterations = 900, learning_rate = 0.26, random_seed = 12345, train_dir= \"learning_rate = 0.05\")\n",
    "model_2 = CatBoostRegressor(objective='RMSE', max_depth = 5, iterations = 700, learning_rate = 0.2, random_seed = 12345, train_dir= \"learning_rate = 0.1\")\n",
    "model_3 = CatBoostRegressor(objective='RMSE', max_depth = 5, iterations = 600, learning_rate = 0.1, random_seed = 12345, train_dir = \"learning_rate = 0.2\")\n",
    "model_4 = CatBoostRegressor(objective='RMSE', max_depth = 5, iterations = 500, learning_rate = 0.05, random_seed = 12345, train_dir = \"learning_rate = 0.2_2\")\n",
    "\n",
    "for models in (model_1, model_2, model_3, model_4):\n",
    "    \n",
    "    \n",
    "    models.fit(df_com_pool, plot=False, eval_set=val_pool, verbose=False)\n",
    " \n",
    "    \n",
    "    rmse_train = np.sqrt(mean_squared_error(df_train.num_orders.values, models.predict(train_pool)))\n",
    "    rmse_val = np.sqrt(mean_squared_error(df_val.num_orders.values, models.predict(val_pool)))\n",
    "    \n",
    "    \n",
    "    actual_counts = df_test.num_orders.values\n",
    "    predicted_counts_poisson = models.predict(test_pool)\n",
    " \n",
    "    \n",
    "    rmse_test = np.sqrt(mean_squared_error(actual_counts, predicted_counts_poisson))\n",
    "         \n",
    "    model_param = model_param.append(pd.DataFrame({\"model\": [\"CatBoost\"],\n",
    "                                               \"iterations\": [pd.Series(models.get_params())[\"iterations\"]],\n",
    "                                               \"learning_rate\": [pd.Series(models.get_params())[\"learning_rate\"]],\n",
    "                                               \"RMSE_train\": [rmse_train],\n",
    "                                               \"RMSE_val\": [rmse_val],\n",
    "                                               \"Overfit\": [rmse_val - rmse_train],   \n",
    "                                               }))\n",
    "    \n",
    "\n",
    "model_param"
   ]
  },
  {
   "cell_type": "markdown",
   "metadata": {},
   "source": [
    "### 3.2.4. LightGBM"
   ]
  },
  {
   "cell_type": "code",
   "execution_count": 42,
   "metadata": {},
   "outputs": [],
   "source": [
    "import lightgbm as lgb\n",
    "import pickle\n",
    "from matplotlib.pylab import rcParams\n",
    "rcParams['figure.figsize'] = 12, 4"
   ]
  },
  {
   "cell_type": "markdown",
   "metadata": {},
   "source": [
    "Создадим следующие переменные:\n",
    "* pred_cols-это столбец с целевой пееменной\n",
    "* num_cols-это числовые столбцы, которые будут использоваться при обучении модели"
   ]
  },
  {
   "cell_type": "code",
   "execution_count": 43,
   "metadata": {},
   "outputs": [],
   "source": [
    "cat_cols = []\n",
    "pred_cols = ['num_orders']\n",
    "num_cols = [x for x in list(order_taxi.columns.values) if x not in cat_cols]"
   ]
  },
  {
   "cell_type": "code",
   "execution_count": 44,
   "metadata": {},
   "outputs": [],
   "source": [
    "data_final = order_taxi"
   ]
  },
  {
   "cell_type": "markdown",
   "metadata": {},
   "source": [
    "Разделим дата сет на обучающую, валидационную и тестовую выборки"
   ]
  },
  {
   "cell_type": "code",
   "execution_count": 45,
   "metadata": {
    "scrolled": true
   },
   "outputs": [],
   "source": [
    "df_com, test_final = train_test_split(order_taxi, shuffle=False, test_size=0.1, random_state=12345)\n",
    "train_final, val_final = train_test_split(df_com, shuffle=False, test_size=0.11, random_state=12345)"
   ]
  },
  {
   "cell_type": "markdown",
   "metadata": {},
   "source": [
    "Создадим обучающие и целевые наборы данных для тренровочного и валидационного множества"
   ]
  },
  {
   "cell_type": "code",
   "execution_count": 46,
   "metadata": {},
   "outputs": [],
   "source": [
    "y_train = train_final['num_orders']\n",
    "y_val = val_final['num_orders']\n",
    "y_test = test_final['num_orders']\n",
    "y_com = df_com['num_orders']\n",
    "\n",
    "x_train = train_final.drop(['num_orders'], axis=1)\n",
    "x_val = val_final.drop(['num_orders'], axis=1)\n",
    "x_test = test_final.drop(['num_orders'], axis=1)\n",
    "x_com = df_com.drop(['num_orders'], axis=1)"
   ]
  },
  {
   "cell_type": "code",
   "execution_count": 47,
   "metadata": {},
   "outputs": [],
   "source": [
    "lgb_train = lgb.Dataset(data = x_train, label = y_train, free_raw_data = False)\n",
    "lgb_val = lgb.Dataset(data = x_val, label = y_val, reference = lgb_train, free_raw_data = False)\n",
    "lgb_test = lgb.Dataset(data = x_test, label = y_test, free_raw_data = False)\n",
    "lgb_com = lgb.Dataset(data = x_com, label = y_com, free_raw_data = False)\n"
   ]
  },
  {
   "cell_type": "markdown",
   "metadata": {},
   "source": [
    "Обучим модели и сохрамим параметры их обучния и предсказания. Не будем использовать hyperopt для подбора параметров, поскольку предыдущая работа показала, что они похожи у моделей CatBoost, LightGBM и XGBoost. Кроме того мы все равно берем несколько наборов параметров, чтобы выбрать лучший."
   ]
  },
  {
   "cell_type": "code",
   "execution_count": 48,
   "metadata": {
    "scrolled": true
   },
   "outputs": [
    {
     "data": {
      "text/html": [
       "<div>\n",
       "<style scoped>\n",
       "    .dataframe tbody tr th:only-of-type {\n",
       "        vertical-align: middle;\n",
       "    }\n",
       "\n",
       "    .dataframe tbody tr th {\n",
       "        vertical-align: top;\n",
       "    }\n",
       "\n",
       "    .dataframe thead th {\n",
       "        text-align: right;\n",
       "    }\n",
       "</style>\n",
       "<table border=\"1\" class=\"dataframe\">\n",
       "  <thead>\n",
       "    <tr style=\"text-align: right;\">\n",
       "      <th></th>\n",
       "      <th>model</th>\n",
       "      <th>iterations</th>\n",
       "      <th>learning_rate</th>\n",
       "      <th>RMSE_train</th>\n",
       "      <th>RMSE_val</th>\n",
       "      <th>Overfit</th>\n",
       "    </tr>\n",
       "  </thead>\n",
       "  <tbody>\n",
       "    <tr>\n",
       "      <th>0</th>\n",
       "      <td>LinearRegression</td>\n",
       "      <td></td>\n",
       "      <td></td>\n",
       "      <td>28.795598</td>\n",
       "      <td>39.943985</td>\n",
       "      <td>-11.148387</td>\n",
       "    </tr>\n",
       "    <tr>\n",
       "      <th>0</th>\n",
       "      <td>RandomForestRegressor</td>\n",
       "      <td></td>\n",
       "      <td></td>\n",
       "      <td>8.063051</td>\n",
       "      <td>11.935192</td>\n",
       "      <td>-3.872142</td>\n",
       "    </tr>\n",
       "    <tr>\n",
       "      <th>0</th>\n",
       "      <td>CatBoost</td>\n",
       "      <td>900</td>\n",
       "      <td>0.26</td>\n",
       "      <td>6.263038</td>\n",
       "      <td>4.274265</td>\n",
       "      <td>-1.988772</td>\n",
       "    </tr>\n",
       "    <tr>\n",
       "      <th>0</th>\n",
       "      <td>CatBoost</td>\n",
       "      <td>700</td>\n",
       "      <td>0.2</td>\n",
       "      <td>9.187416</td>\n",
       "      <td>6.685885</td>\n",
       "      <td>-2.501531</td>\n",
       "    </tr>\n",
       "    <tr>\n",
       "      <th>0</th>\n",
       "      <td>CatBoost</td>\n",
       "      <td>600</td>\n",
       "      <td>0.1</td>\n",
       "      <td>13.738360</td>\n",
       "      <td>12.700151</td>\n",
       "      <td>-1.038209</td>\n",
       "    </tr>\n",
       "    <tr>\n",
       "      <th>0</th>\n",
       "      <td>CatBoost</td>\n",
       "      <td>500</td>\n",
       "      <td>0.05</td>\n",
       "      <td>17.345519</td>\n",
       "      <td>19.160338</td>\n",
       "      <td>1.814819</td>\n",
       "    </tr>\n",
       "    <tr>\n",
       "      <th>0</th>\n",
       "      <td>LightGBM</td>\n",
       "      <td>500</td>\n",
       "      <td>0.05</td>\n",
       "      <td>17.417198</td>\n",
       "      <td>24.268312</td>\n",
       "      <td>6.851114</td>\n",
       "    </tr>\n",
       "    <tr>\n",
       "      <th>0</th>\n",
       "      <td>LightGBM</td>\n",
       "      <td>600</td>\n",
       "      <td>0.1</td>\n",
       "      <td>12.850360</td>\n",
       "      <td>15.469520</td>\n",
       "      <td>2.619160</td>\n",
       "    </tr>\n",
       "    <tr>\n",
       "      <th>0</th>\n",
       "      <td>LightGBM</td>\n",
       "      <td>700</td>\n",
       "      <td>0.2</td>\n",
       "      <td>9.443601</td>\n",
       "      <td>9.998987</td>\n",
       "      <td>0.555386</td>\n",
       "    </tr>\n",
       "    <tr>\n",
       "      <th>0</th>\n",
       "      <td>LightGBM</td>\n",
       "      <td>900</td>\n",
       "      <td>0.26</td>\n",
       "      <td>6.936814</td>\n",
       "      <td>6.567019</td>\n",
       "      <td>-0.369795</td>\n",
       "    </tr>\n",
       "  </tbody>\n",
       "</table>\n",
       "</div>"
      ],
      "text/plain": [
       "                   model iterations learning_rate  RMSE_train   RMSE_val  \\\n",
       "0       LinearRegression                            28.795598  39.943985   \n",
       "0  RandomForestRegressor                             8.063051  11.935192   \n",
       "0               CatBoost        900          0.26    6.263038   4.274265   \n",
       "0               CatBoost        700           0.2    9.187416   6.685885   \n",
       "0               CatBoost        600           0.1   13.738360  12.700151   \n",
       "0               CatBoost        500          0.05   17.345519  19.160338   \n",
       "0               LightGBM        500          0.05   17.417198  24.268312   \n",
       "0               LightGBM        600           0.1   12.850360  15.469520   \n",
       "0               LightGBM        700           0.2    9.443601   9.998987   \n",
       "0               LightGBM        900          0.26    6.936814   6.567019   \n",
       "\n",
       "     Overfit  \n",
       "0 -11.148387  \n",
       "0  -3.872142  \n",
       "0  -1.988772  \n",
       "0  -2.501531  \n",
       "0  -1.038209  \n",
       "0   1.814819  \n",
       "0   6.851114  \n",
       "0   2.619160  \n",
       "0   0.555386  \n",
       "0  -0.369795  "
      ]
     },
     "execution_count": 48,
     "metadata": {},
     "output_type": "execute_result"
    }
   ],
   "source": [
    "learning_rate = (0.05, 0.1, 0.2, 0.26)\n",
    "n_estimators = (500, 600, 700, 900)\n",
    "\n",
    "for learning_rate, n_estimators in zip(learning_rate, n_estimators):\n",
    "    params = {'boosting_type': 'dart',\n",
    "          'objective': 'regression',\n",
    "          'metric': 'RMSE',\n",
    "          \"random_seed\": 12345,\n",
    "          'max_depth': 6,\n",
    "          'learning_rate': learning_rate,\n",
    "          'n_estimators': n_estimators,\n",
    "          \n",
    "         }\n",
    "    \n",
    "    start_time = time.clock()\n",
    "    gbm = lgb.train(params, train_set = lgb_com,\n",
    "                valid_sets = [lgb_val],\n",
    "                valid_names = ['eval'],\n",
    "                verbose_eval = False\n",
    "               )\n",
    "\n",
    "   \n",
    "    \n",
    "    rmse_train = np.sqrt(mean_squared_error(train_final.num_orders.values, gbm.predict(x_train, num_iteration = gbm.best_iteration)))\n",
    "    rmse_val = np.sqrt(mean_squared_error(val_final.num_orders.values, gbm.predict(x_val, num_iteration = gbm.best_iteration)))\n",
    "    \n",
    "          \n",
    "    \n",
    "    actual_counts = test_final.num_orders.values\n",
    "    predicted_counts_poisson = gbm.predict(x_test, num_iteration = gbm.best_iteration)\n",
    "    \n",
    "    \n",
    "    rmse_test = np.sqrt(mean_squared_error(actual_counts, predicted_counts_poisson))\n",
    "         \n",
    "    model_param = model_param.append(pd.DataFrame({\"model\": [\"LightGBM\"],\n",
    "                                               \"iterations\": [n_estimators],\n",
    "                                               \"learning_rate\": [learning_rate],\n",
    "                                               \"RMSE_train\": [rmse_train],\n",
    "                                               \"RMSE_val\": [rmse_val],\n",
    "                                               \"Overfit\": [rmse_val - rmse_train],\n",
    "                                                \n",
    "                                               }))\n",
    "    \n",
    "model_param"
   ]
  },
  {
   "cell_type": "markdown",
   "metadata": {},
   "source": [
    "Ниже находится закомментированный блок, который позволяет использовать кросс-валидацию для подбора параметров LightGBM. Он существенно увеличивает время работы модели, поэтому я его упростил, но оставил, чтобы не потерялся."
   ]
  },
  {
   "cell_type": "code",
   "execution_count": 49,
   "metadata": {},
   "outputs": [],
   "source": [
    "# depth = 8\n",
    "# num_leaves = 2**depth - 1\n",
    "# learning_rate = (0.05, 0.1, 0.2, 0.2)\n",
    "# n_estimators = (100, 300, 500, 700)\n",
    "\n",
    "# for learning_rate, n_estimators in zip(learning_rate, n_estimators):\n",
    "#     params = {'boosting_type': 'dart',\n",
    "#           'objective': 'regression',\n",
    "#           'metric': 'RMSE',\n",
    "#           'num_leaves': num_leaves,\n",
    "#           'max_depth': 5,\n",
    "#           'random_seed': 12345,\n",
    "#           'learning_rate': learning_rate,\n",
    "#           'n_estimators': n_estimators,\n",
    "#           'min_split_gain': 0.05,\n",
    "#           'min_child_weight': 0.5,\n",
    "#           'subsample': 0.8,\n",
    "#           'colsample_bytree': 0.8,\n",
    "#           'reg_alpha': 0.2,\n",
    "#           'reg_lambda': 0.2,\n",
    "#           'drop_rate': 0.2,\n",
    "#           'skip_drop': 0.8,\n",
    "#           'max_drop': 200,\n",
    "#           'seed': 100,\n",
    "#           'silent': False\n",
    "#          }\n",
    "    \n",
    "#     start_time = time.clock()\n",
    "#     num_boost_round = 100\n",
    "#     early_stopping_rounds = 10\n",
    "#     nfold = 5\n",
    "#     evals_result = {}\n",
    "\n",
    "#     gbmCV = lgb.cv(params,\n",
    "#                train_set = lgb_train,\n",
    "#                num_boost_round = num_boost_round,\n",
    "#                nfold = nfold,\n",
    "#                early_stopping_rounds = early_stopping_rounds,\n",
    "#                verbose_eval = False)\n",
    "\n",
    "#     num_boost_round = len(gbmCV['rmse-mean'])\n",
    "\n",
    "#     gbm = lgb.train(params,\n",
    "#                 train_set = lgb_train,\n",
    "#                 num_boost_round = num_boost_round,\n",
    "#                 valid_sets = [lgb_val],\n",
    "#                 valid_names = ['eval'],\n",
    "#                 evals_result = evals_result,\n",
    "#                 verbose_eval = False)\n",
    "\n",
    "#     time_learn = time.clock() - start_time\n",
    "    \n",
    "#     rmse_train = np.sqrt(mean_squared_error(train_final.num_orders.values, gbm.predict(x_train, num_iteration = gbm.best_iteration)))\n",
    "#     rmse_val = np.sqrt(mean_squared_error(val_final.num_orders.values, gbm.predict(x_val, num_iteration = gbm.best_iteration)))\n",
    "    \n",
    "          \n",
    "#     start_time = time.clock()\n",
    "#     actual_counts = test_final.num_orders.values\n",
    "#     predicted_counts_poisson = gbm.predict(x_test, num_iteration = gbm.best_iteration)\n",
    "#     time_pred = time.clock() - start_time\n",
    "    \n",
    "#     rmse_test = np.sqrt(mean_squared_error(actual_counts, predicted_counts_poisson))\n",
    "         \n",
    "#     model_param = model_param.append(pd.DataFrame({\"model\": [\"LightGBM\"],\n",
    "#                                                \"iterations\": [n_estimators],\n",
    "#                                                \"learning_rate\": [learning_rate],\n",
    "#                                                \"time_learn\": [time_learn],\n",
    "#                                                \"time_pred\": [time_pred],\n",
    "#                                                \"RMSE_train\": [rmse_train],\n",
    "#                                                \"RMSE_val\": [rmse_val],\n",
    "#                                                \"Overfit\": [rmse_val - rmse_train],\n",
    "#                                                \"RMSE_test\": [rmse_test] \n",
    "#                                                }))\n",
    "    \n",
    "# model_param"
   ]
  },
  {
   "cell_type": "markdown",
   "metadata": {},
   "source": [
    "### 2.3. XGBoost"
   ]
  },
  {
   "cell_type": "code",
   "execution_count": 50,
   "metadata": {},
   "outputs": [],
   "source": [
    "import xgboost as xgb"
   ]
  },
  {
   "cell_type": "markdown",
   "metadata": {},
   "source": [
    "Воспользуемся для обучения и тестирования модели теми же наборами данных, что и для LightGBM. "
   ]
  },
  {
   "cell_type": "code",
   "execution_count": 51,
   "metadata": {},
   "outputs": [
    {
     "name": "stdout",
     "output_type": "stream",
     "text": [
      "[12:04:36] WARNING: C:/Users/Administrator/workspace/xgboost-win64_release_1.1.0/src/objective/regression_obj.cu:168: reg:linear is now deprecated in favor of reg:squarederror.\n",
      "[12:04:47] WARNING: C:/Users/Administrator/workspace/xgboost-win64_release_1.1.0/src/objective/regression_obj.cu:168: reg:linear is now deprecated in favor of reg:squarederror.\n",
      "[12:04:47] WARNING: C:/Users/Administrator/workspace/xgboost-win64_release_1.1.0/src/objective/regression_obj.cu:168: reg:linear is now deprecated in favor of reg:squarederror.\n",
      "[12:04:52] WARNING: C:/Users/Administrator/workspace/xgboost-win64_release_1.1.0/src/objective/regression_obj.cu:168: reg:linear is now deprecated in favor of reg:squarederror.\n",
      "[12:04:52] WARNING: C:/Users/Administrator/workspace/xgboost-win64_release_1.1.0/src/objective/regression_obj.cu:168: reg:linear is now deprecated in favor of reg:squarederror.\n",
      "[12:04:58] WARNING: C:/Users/Administrator/workspace/xgboost-win64_release_1.1.0/src/objective/regression_obj.cu:168: reg:linear is now deprecated in favor of reg:squarederror.\n",
      "[12:04:58] WARNING: C:/Users/Administrator/workspace/xgboost-win64_release_1.1.0/src/objective/regression_obj.cu:168: reg:linear is now deprecated in favor of reg:squarederror.\n",
      "[12:05:05] WARNING: C:/Users/Administrator/workspace/xgboost-win64_release_1.1.0/src/objective/regression_obj.cu:168: reg:linear is now deprecated in favor of reg:squarederror.\n"
     ]
    },
    {
     "data": {
      "text/html": [
       "<div>\n",
       "<style scoped>\n",
       "    .dataframe tbody tr th:only-of-type {\n",
       "        vertical-align: middle;\n",
       "    }\n",
       "\n",
       "    .dataframe tbody tr th {\n",
       "        vertical-align: top;\n",
       "    }\n",
       "\n",
       "    .dataframe thead th {\n",
       "        text-align: right;\n",
       "    }\n",
       "</style>\n",
       "<table border=\"1\" class=\"dataframe\">\n",
       "  <thead>\n",
       "    <tr style=\"text-align: right;\">\n",
       "      <th></th>\n",
       "      <th>model</th>\n",
       "      <th>iterations</th>\n",
       "      <th>learning_rate</th>\n",
       "      <th>RMSE_train</th>\n",
       "      <th>RMSE_val</th>\n",
       "      <th>Overfit</th>\n",
       "    </tr>\n",
       "  </thead>\n",
       "  <tbody>\n",
       "    <tr>\n",
       "      <th>0</th>\n",
       "      <td>LinearRegression</td>\n",
       "      <td></td>\n",
       "      <td></td>\n",
       "      <td>28.795598</td>\n",
       "      <td>39.943985</td>\n",
       "      <td>-11.148387</td>\n",
       "    </tr>\n",
       "    <tr>\n",
       "      <th>0</th>\n",
       "      <td>RandomForestRegressor</td>\n",
       "      <td></td>\n",
       "      <td></td>\n",
       "      <td>8.063051</td>\n",
       "      <td>11.935192</td>\n",
       "      <td>-3.872142</td>\n",
       "    </tr>\n",
       "    <tr>\n",
       "      <th>0</th>\n",
       "      <td>CatBoost</td>\n",
       "      <td>900</td>\n",
       "      <td>0.26</td>\n",
       "      <td>6.263038</td>\n",
       "      <td>4.274265</td>\n",
       "      <td>-1.988772</td>\n",
       "    </tr>\n",
       "    <tr>\n",
       "      <th>0</th>\n",
       "      <td>CatBoost</td>\n",
       "      <td>700</td>\n",
       "      <td>0.2</td>\n",
       "      <td>9.187416</td>\n",
       "      <td>6.685885</td>\n",
       "      <td>-2.501531</td>\n",
       "    </tr>\n",
       "    <tr>\n",
       "      <th>0</th>\n",
       "      <td>CatBoost</td>\n",
       "      <td>600</td>\n",
       "      <td>0.1</td>\n",
       "      <td>13.738360</td>\n",
       "      <td>12.700151</td>\n",
       "      <td>-1.038209</td>\n",
       "    </tr>\n",
       "    <tr>\n",
       "      <th>0</th>\n",
       "      <td>CatBoost</td>\n",
       "      <td>500</td>\n",
       "      <td>0.05</td>\n",
       "      <td>17.345519</td>\n",
       "      <td>19.160338</td>\n",
       "      <td>1.814819</td>\n",
       "    </tr>\n",
       "    <tr>\n",
       "      <th>0</th>\n",
       "      <td>LightGBM</td>\n",
       "      <td>500</td>\n",
       "      <td>0.05</td>\n",
       "      <td>17.417198</td>\n",
       "      <td>24.268312</td>\n",
       "      <td>6.851114</td>\n",
       "    </tr>\n",
       "    <tr>\n",
       "      <th>0</th>\n",
       "      <td>LightGBM</td>\n",
       "      <td>600</td>\n",
       "      <td>0.1</td>\n",
       "      <td>12.850360</td>\n",
       "      <td>15.469520</td>\n",
       "      <td>2.619160</td>\n",
       "    </tr>\n",
       "    <tr>\n",
       "      <th>0</th>\n",
       "      <td>LightGBM</td>\n",
       "      <td>700</td>\n",
       "      <td>0.2</td>\n",
       "      <td>9.443601</td>\n",
       "      <td>9.998987</td>\n",
       "      <td>0.555386</td>\n",
       "    </tr>\n",
       "    <tr>\n",
       "      <th>0</th>\n",
       "      <td>LightGBM</td>\n",
       "      <td>900</td>\n",
       "      <td>0.26</td>\n",
       "      <td>6.936814</td>\n",
       "      <td>6.567019</td>\n",
       "      <td>-0.369795</td>\n",
       "    </tr>\n",
       "    <tr>\n",
       "      <th>0</th>\n",
       "      <td>XGBoost</td>\n",
       "      <td>500</td>\n",
       "      <td>0.05</td>\n",
       "      <td>8.052914</td>\n",
       "      <td>5.623311</td>\n",
       "      <td>-2.429603</td>\n",
       "    </tr>\n",
       "    <tr>\n",
       "      <th>0</th>\n",
       "      <td>XGBoost</td>\n",
       "      <td>600</td>\n",
       "      <td>0.1</td>\n",
       "      <td>2.706212</td>\n",
       "      <td>1.416420</td>\n",
       "      <td>-1.289792</td>\n",
       "    </tr>\n",
       "    <tr>\n",
       "      <th>0</th>\n",
       "      <td>XGBoost</td>\n",
       "      <td>700</td>\n",
       "      <td>0.26</td>\n",
       "      <td>0.063402</td>\n",
       "      <td>0.028519</td>\n",
       "      <td>-0.034883</td>\n",
       "    </tr>\n",
       "    <tr>\n",
       "      <th>0</th>\n",
       "      <td>XGBoost</td>\n",
       "      <td>900</td>\n",
       "      <td>0.26</td>\n",
       "      <td>0.012470</td>\n",
       "      <td>0.006588</td>\n",
       "      <td>-0.005881</td>\n",
       "    </tr>\n",
       "  </tbody>\n",
       "</table>\n",
       "</div>"
      ],
      "text/plain": [
       "                   model iterations learning_rate  RMSE_train   RMSE_val  \\\n",
       "0       LinearRegression                            28.795598  39.943985   \n",
       "0  RandomForestRegressor                             8.063051  11.935192   \n",
       "0               CatBoost        900          0.26    6.263038   4.274265   \n",
       "0               CatBoost        700           0.2    9.187416   6.685885   \n",
       "0               CatBoost        600           0.1   13.738360  12.700151   \n",
       "0               CatBoost        500          0.05   17.345519  19.160338   \n",
       "0               LightGBM        500          0.05   17.417198  24.268312   \n",
       "0               LightGBM        600           0.1   12.850360  15.469520   \n",
       "0               LightGBM        700           0.2    9.443601   9.998987   \n",
       "0               LightGBM        900          0.26    6.936814   6.567019   \n",
       "0                XGBoost        500          0.05    8.052914   5.623311   \n",
       "0                XGBoost        600           0.1    2.706212   1.416420   \n",
       "0                XGBoost        700          0.26    0.063402   0.028519   \n",
       "0                XGBoost        900          0.26    0.012470   0.006588   \n",
       "\n",
       "     Overfit  \n",
       "0 -11.148387  \n",
       "0  -3.872142  \n",
       "0  -1.988772  \n",
       "0  -2.501531  \n",
       "0  -1.038209  \n",
       "0   1.814819  \n",
       "0   6.851114  \n",
       "0   2.619160  \n",
       "0   0.555386  \n",
       "0  -0.369795  \n",
       "0  -2.429603  \n",
       "0  -1.289792  \n",
       "0  -0.034883  \n",
       "0  -0.005881  "
      ]
     },
     "execution_count": 51,
     "metadata": {},
     "output_type": "execute_result"
    }
   ],
   "source": [
    "learning_rate = (0.05, 0.1, 0.26, 0.26)\n",
    "n_estimators = (500, 600, 700, 900)\n",
    "\n",
    "\n",
    "for learning_rate, n_estimators in zip(learning_rate, n_estimators):\n",
    "    \n",
    "    xgbr = xgb.XGBRegressor(base_score=0.5, booster='gbtree', colsample_bylevel=1,\n",
    "    colsample_bynode=1, colsample_bytree=1, gamma=0,\n",
    "    importance_type='gain', learning_rate=learning_rate, max_delta_step=0,\n",
    "    max_depth=6, min_child_weight=1, missing=None, n_estimators=n_estimators,\n",
    "    n_jobs=-1, nthread=None, objective='reg:linear', random_state=12345,\n",
    "    reg_alpha=0, reg_lambda=1, scale_pos_weight=1, seed=None,\n",
    "    silent=None, subsample=1, verbosity=1)\n",
    "    \n",
    "      \n",
    "    xgbr.fit(x_com, y_com)\n",
    "    \n",
    "    \n",
    "    rmse_train = np.sqrt(mean_squared_error(y_train, xgbr.predict(x_train)))\n",
    "    rmse_val = np.sqrt(mean_squared_error(y_val, xgbr.predict(x_val)))\n",
    "     \n",
    "         \n",
    "    model_param = model_param.append(pd.DataFrame({\"model\": [\"XGBoost\"],\n",
    "                                               \"iterations\": [n_estimators],\n",
    "                                               \"learning_rate\": [learning_rate],\n",
    "                                               \"RMSE_train\": [rmse_train],\n",
    "                                               \"RMSE_val\": [rmse_val],\n",
    "                                               \"Overfit\": [rmse_val - rmse_train]\n",
    "                                                }))\n",
    "    \n",
    "model_param"
   ]
  },
  {
   "cell_type": "markdown",
   "metadata": {},
   "source": [
    "Определим три модели с самыми низкими показателями RMSE на валидационной выборке. "
   ]
  },
  {
   "cell_type": "code",
   "execution_count": 52,
   "metadata": {},
   "outputs": [
    {
     "data": {
      "text/html": [
       "<div>\n",
       "<style scoped>\n",
       "    .dataframe tbody tr th:only-of-type {\n",
       "        vertical-align: middle;\n",
       "    }\n",
       "\n",
       "    .dataframe tbody tr th {\n",
       "        vertical-align: top;\n",
       "    }\n",
       "\n",
       "    .dataframe thead th {\n",
       "        text-align: right;\n",
       "    }\n",
       "</style>\n",
       "<table border=\"1\" class=\"dataframe\">\n",
       "  <thead>\n",
       "    <tr style=\"text-align: right;\">\n",
       "      <th></th>\n",
       "      <th>model</th>\n",
       "      <th>iterations</th>\n",
       "      <th>learning_rate</th>\n",
       "      <th>RMSE_train</th>\n",
       "      <th>RMSE_val</th>\n",
       "      <th>Overfit</th>\n",
       "    </tr>\n",
       "  </thead>\n",
       "  <tbody>\n",
       "    <tr>\n",
       "      <th>0</th>\n",
       "      <td>XGBoost</td>\n",
       "      <td>900</td>\n",
       "      <td>0.26</td>\n",
       "      <td>0.012470</td>\n",
       "      <td>0.006588</td>\n",
       "      <td>-0.005881</td>\n",
       "    </tr>\n",
       "    <tr>\n",
       "      <th>0</th>\n",
       "      <td>XGBoost</td>\n",
       "      <td>700</td>\n",
       "      <td>0.26</td>\n",
       "      <td>0.063402</td>\n",
       "      <td>0.028519</td>\n",
       "      <td>-0.034883</td>\n",
       "    </tr>\n",
       "    <tr>\n",
       "      <th>0</th>\n",
       "      <td>XGBoost</td>\n",
       "      <td>600</td>\n",
       "      <td>0.1</td>\n",
       "      <td>2.706212</td>\n",
       "      <td>1.416420</td>\n",
       "      <td>-1.289792</td>\n",
       "    </tr>\n",
       "    <tr>\n",
       "      <th>0</th>\n",
       "      <td>CatBoost</td>\n",
       "      <td>900</td>\n",
       "      <td>0.26</td>\n",
       "      <td>6.263038</td>\n",
       "      <td>4.274265</td>\n",
       "      <td>-1.988772</td>\n",
       "    </tr>\n",
       "    <tr>\n",
       "      <th>0</th>\n",
       "      <td>XGBoost</td>\n",
       "      <td>500</td>\n",
       "      <td>0.05</td>\n",
       "      <td>8.052914</td>\n",
       "      <td>5.623311</td>\n",
       "      <td>-2.429603</td>\n",
       "    </tr>\n",
       "    <tr>\n",
       "      <th>0</th>\n",
       "      <td>LightGBM</td>\n",
       "      <td>900</td>\n",
       "      <td>0.26</td>\n",
       "      <td>6.936814</td>\n",
       "      <td>6.567019</td>\n",
       "      <td>-0.369795</td>\n",
       "    </tr>\n",
       "    <tr>\n",
       "      <th>0</th>\n",
       "      <td>CatBoost</td>\n",
       "      <td>700</td>\n",
       "      <td>0.2</td>\n",
       "      <td>9.187416</td>\n",
       "      <td>6.685885</td>\n",
       "      <td>-2.501531</td>\n",
       "    </tr>\n",
       "    <tr>\n",
       "      <th>0</th>\n",
       "      <td>LightGBM</td>\n",
       "      <td>700</td>\n",
       "      <td>0.2</td>\n",
       "      <td>9.443601</td>\n",
       "      <td>9.998987</td>\n",
       "      <td>0.555386</td>\n",
       "    </tr>\n",
       "    <tr>\n",
       "      <th>0</th>\n",
       "      <td>RandomForestRegressor</td>\n",
       "      <td></td>\n",
       "      <td></td>\n",
       "      <td>8.063051</td>\n",
       "      <td>11.935192</td>\n",
       "      <td>-3.872142</td>\n",
       "    </tr>\n",
       "    <tr>\n",
       "      <th>0</th>\n",
       "      <td>CatBoost</td>\n",
       "      <td>600</td>\n",
       "      <td>0.1</td>\n",
       "      <td>13.738360</td>\n",
       "      <td>12.700151</td>\n",
       "      <td>-1.038209</td>\n",
       "    </tr>\n",
       "    <tr>\n",
       "      <th>0</th>\n",
       "      <td>LightGBM</td>\n",
       "      <td>600</td>\n",
       "      <td>0.1</td>\n",
       "      <td>12.850360</td>\n",
       "      <td>15.469520</td>\n",
       "      <td>2.619160</td>\n",
       "    </tr>\n",
       "    <tr>\n",
       "      <th>0</th>\n",
       "      <td>CatBoost</td>\n",
       "      <td>500</td>\n",
       "      <td>0.05</td>\n",
       "      <td>17.345519</td>\n",
       "      <td>19.160338</td>\n",
       "      <td>1.814819</td>\n",
       "    </tr>\n",
       "    <tr>\n",
       "      <th>0</th>\n",
       "      <td>LightGBM</td>\n",
       "      <td>500</td>\n",
       "      <td>0.05</td>\n",
       "      <td>17.417198</td>\n",
       "      <td>24.268312</td>\n",
       "      <td>6.851114</td>\n",
       "    </tr>\n",
       "    <tr>\n",
       "      <th>0</th>\n",
       "      <td>LinearRegression</td>\n",
       "      <td></td>\n",
       "      <td></td>\n",
       "      <td>28.795598</td>\n",
       "      <td>39.943985</td>\n",
       "      <td>-11.148387</td>\n",
       "    </tr>\n",
       "  </tbody>\n",
       "</table>\n",
       "</div>"
      ],
      "text/plain": [
       "                   model iterations learning_rate  RMSE_train   RMSE_val  \\\n",
       "0                XGBoost        900          0.26    0.012470   0.006588   \n",
       "0                XGBoost        700          0.26    0.063402   0.028519   \n",
       "0                XGBoost        600           0.1    2.706212   1.416420   \n",
       "0               CatBoost        900          0.26    6.263038   4.274265   \n",
       "0                XGBoost        500          0.05    8.052914   5.623311   \n",
       "0               LightGBM        900          0.26    6.936814   6.567019   \n",
       "0               CatBoost        700           0.2    9.187416   6.685885   \n",
       "0               LightGBM        700           0.2    9.443601   9.998987   \n",
       "0  RandomForestRegressor                             8.063051  11.935192   \n",
       "0               CatBoost        600           0.1   13.738360  12.700151   \n",
       "0               LightGBM        600           0.1   12.850360  15.469520   \n",
       "0               CatBoost        500          0.05   17.345519  19.160338   \n",
       "0               LightGBM        500          0.05   17.417198  24.268312   \n",
       "0       LinearRegression                            28.795598  39.943985   \n",
       "\n",
       "     Overfit  \n",
       "0  -0.005881  \n",
       "0  -0.034883  \n",
       "0  -1.289792  \n",
       "0  -1.988772  \n",
       "0  -2.429603  \n",
       "0  -0.369795  \n",
       "0  -2.501531  \n",
       "0   0.555386  \n",
       "0  -3.872142  \n",
       "0  -1.038209  \n",
       "0   2.619160  \n",
       "0   1.814819  \n",
       "0   6.851114  \n",
       "0 -11.148387  "
      ]
     },
     "execution_count": 52,
     "metadata": {},
     "output_type": "execute_result"
    }
   ],
   "source": [
    "model_param.sort_values(\"RMSE_val\")"
   ]
  },
  {
   "cell_type": "markdown",
   "metadata": {},
   "source": [
    "# 4. Тестирование"
   ]
  },
  {
   "cell_type": "markdown",
   "metadata": {},
   "source": [
    "Посмотрим на метрику RMSE на тестовой выборке для лучших моделей, определенных выше."
   ]
  },
  {
   "cell_type": "code",
   "execution_count": 53,
   "metadata": {},
   "outputs": [
    {
     "name": "stdout",
     "output_type": "stream",
     "text": [
      "[12:05:23] WARNING: C:/Users/Administrator/workspace/xgboost-win64_release_1.1.0/src/objective/regression_obj.cu:168: reg:linear is now deprecated in favor of reg:squarederror.\n",
      "[12:05:36] WARNING: C:/Users/Administrator/workspace/xgboost-win64_release_1.1.0/src/objective/regression_obj.cu:168: reg:linear is now deprecated in favor of reg:squarederror.\n",
      "[12:05:36] WARNING: C:/Users/Administrator/workspace/xgboost-win64_release_1.1.0/src/objective/regression_obj.cu:168: reg:linear is now deprecated in favor of reg:squarederror.\n",
      "[12:05:45] WARNING: C:/Users/Administrator/workspace/xgboost-win64_release_1.1.0/src/objective/regression_obj.cu:168: reg:linear is now deprecated in favor of reg:squarederror.\n",
      "[12:05:45] WARNING: C:/Users/Administrator/workspace/xgboost-win64_release_1.1.0/src/objective/regression_obj.cu:168: reg:linear is now deprecated in favor of reg:squarederror.\n",
      "[12:05:59] WARNING: C:/Users/Administrator/workspace/xgboost-win64_release_1.1.0/src/objective/regression_obj.cu:168: reg:linear is now deprecated in favor of reg:squarederror.\n"
     ]
    },
    {
     "data": {
      "text/html": [
       "<div>\n",
       "<style scoped>\n",
       "    .dataframe tbody tr th:only-of-type {\n",
       "        vertical-align: middle;\n",
       "    }\n",
       "\n",
       "    .dataframe tbody tr th {\n",
       "        vertical-align: top;\n",
       "    }\n",
       "\n",
       "    .dataframe thead th {\n",
       "        text-align: right;\n",
       "    }\n",
       "</style>\n",
       "<table border=\"1\" class=\"dataframe\">\n",
       "  <thead>\n",
       "    <tr style=\"text-align: right;\">\n",
       "      <th></th>\n",
       "      <th>model</th>\n",
       "      <th>iterations</th>\n",
       "      <th>learning_rate</th>\n",
       "      <th>RMSE_test</th>\n",
       "    </tr>\n",
       "  </thead>\n",
       "  <tbody>\n",
       "    <tr>\n",
       "      <th>0</th>\n",
       "      <td>XGBoost</td>\n",
       "      <td>900</td>\n",
       "      <td>0.26</td>\n",
       "      <td>43.411767</td>\n",
       "    </tr>\n",
       "    <tr>\n",
       "      <th>0</th>\n",
       "      <td>XGBoost</td>\n",
       "      <td>700</td>\n",
       "      <td>0.20</td>\n",
       "      <td>46.492762</td>\n",
       "    </tr>\n",
       "    <tr>\n",
       "      <th>0</th>\n",
       "      <td>XGBoost</td>\n",
       "      <td>600</td>\n",
       "      <td>0.10</td>\n",
       "      <td>45.563429</td>\n",
       "    </tr>\n",
       "  </tbody>\n",
       "</table>\n",
       "</div>"
      ],
      "text/plain": [
       "     model  iterations  learning_rate  RMSE_test\n",
       "0  XGBoost         900           0.26  43.411767\n",
       "0  XGBoost         700           0.20  46.492762\n",
       "0  XGBoost         600           0.10  45.563429"
      ]
     },
     "execution_count": 53,
     "metadata": {},
     "output_type": "execute_result"
    }
   ],
   "source": [
    "learning_rate = (0.26, 0.2, 0.1)\n",
    "n_estimators = (900, 700, 600)\n",
    "\n",
    "RSME_test = pd.DataFrame([])\n",
    "for learning_rate, n_estimators in zip(learning_rate, n_estimators):\n",
    "    \n",
    "    xgbr = xgb.XGBRegressor(base_score=0.5, booster='gbtree', colsample_bylevel=1,\n",
    "    colsample_bynode=1, colsample_bytree=1, gamma=0,\n",
    "    importance_type='gain', learning_rate=learning_rate, max_delta_step=0,\n",
    "    max_depth=6, min_child_weight=1, missing=None, n_estimators=n_estimators,\n",
    "    n_jobs=-1, nthread=None, objective='reg:linear', random_state=12345,\n",
    "    reg_alpha=0, reg_lambda=1, scale_pos_weight=1, seed=None,\n",
    "    silent=None, subsample=1, verbosity=1)\n",
    "    \n",
    "      \n",
    "    xgbr.fit(x_com, y_com)\n",
    "\n",
    "\n",
    "\n",
    "    actual_counts = test_final.num_orders.values\n",
    "    predicted_counts_poisson = xgbr.predict(x_test)\n",
    "    \n",
    "       \n",
    "    RSME_test = RSME_test.append(pd.DataFrame({\"model\": [\"XGBoost\"],\n",
    "                                               \"iterations\": [n_estimators],\n",
    "                                               \"learning_rate\": [learning_rate],\n",
    "                                               \"RMSE_test\": [np.sqrt(mean_squared_error(y_test, predicted_counts_poisson))],\n",
    "                                               }))\n",
    "    \n",
    "RSME_test"
   ]
  },
  {
   "cell_type": "markdown",
   "metadata": {},
   "source": [
    "Выводы:\n",
    "* Были обучены 5 моделей с разными гиперпараметрами\n",
    "* Определены самые эффективные модели по валидационной выборке\n",
    "* Все они прошли порог RSME на тестовой выборке в 48 пунктов\n",
    "* Преобучение данных моделей минимальное"
   ]
  }
 ],
 "metadata": {
  "kernelspec": {
   "display_name": "Python 3",
   "language": "python",
   "name": "python3"
  },
  "language_info": {
   "codemirror_mode": {
    "name": "ipython",
    "version": 3
   },
   "file_extension": ".py",
   "mimetype": "text/x-python",
   "name": "python",
   "nbconvert_exporter": "python",
   "pygments_lexer": "ipython3",
   "version": "3.7.4"
  }
 },
 "nbformat": 4,
 "nbformat_minor": 2
}
